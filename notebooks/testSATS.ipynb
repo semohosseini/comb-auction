{
 "cells": [
  {
   "cell_type": "code",
   "execution_count": 1,
   "metadata": {},
   "outputs": [],
   "source": [
    "import json"
   ]
  },
  {
   "cell_type": "code",
   "execution_count": 2,
   "metadata": {},
   "outputs": [],
   "source": [
    "with open(\"00000.world.json\") as f:\n",
    "    d = json.load(f)"
   ]
  },
  {
   "cell_type": "code",
   "execution_count": 3,
   "metadata": {},
   "outputs": [],
   "source": [
    "with open('00000.bidder.json') as f:\n",
    "    b = json.load(f)"
   ]
  },
  {
   "cell_type": "code",
   "execution_count": 14,
   "metadata": {},
   "outputs": [
    {
     "data": {
      "text/plain": [
       "{'id': 0, 'population': 514711, 'note': 'Newfoundland and Labrador'}"
      ]
     },
     "execution_count": 14,
     "metadata": {},
     "output_type": "execute_result"
    }
   ],
   "source": [
    "d['regionsMap']['adjacencyGraph'][0]['node']"
   ]
  },
  {
   "cell_type": "code",
   "execution_count": 18,
   "metadata": {},
   "outputs": [
    {
     "data": {
      "text/plain": [
       "14"
      ]
     },
     "execution_count": 18,
     "metadata": {},
     "output_type": "execute_result"
    }
   ],
   "source": [
    "len(d['regionsMap']['adjacencyGraph'])"
   ]
  },
  {
   "cell_type": "code",
   "execution_count": 3,
   "metadata": {},
   "outputs": [
    {
     "data": {
      "text/plain": [
       "dict_keys(['regionsMap', 'bands', 'modelName', 'id', 'implementation'])"
      ]
     },
     "execution_count": 3,
     "metadata": {},
     "output_type": "execute_result"
    }
   ],
   "source": [
    "d.keys()"
   ]
  },
  {
   "cell_type": "code",
   "execution_count": 6,
   "metadata": {},
   "outputs": [
    {
     "data": {
      "text/plain": [
       "dict_keys(['baseCapacity', 'numberOfLots', 'licenses', 'synergies', 'uuid', 'name', 'worldId'])"
      ]
     },
     "execution_count": 6,
     "metadata": {},
     "output_type": "execute_result"
    }
   ],
   "source": [
    "d['bands'][0].keys()"
   ]
  },
  {
   "cell_type": "code",
   "execution_count": 12,
   "metadata": {},
   "outputs": [
    {
     "data": {
      "text/plain": [
       "7"
      ]
     },
     "execution_count": 12,
     "metadata": {},
     "output_type": "execute_result"
    }
   ],
   "source": [
    "d['bands'][0]['licenses'][21]['regionId']"
   ]
  },
  {
   "cell_type": "code",
   "execution_count": 7,
   "metadata": {},
   "outputs": [
    {
     "data": {
      "text/plain": [
       "0.8937322357910741"
      ]
     },
     "execution_count": 7,
     "metadata": {},
     "output_type": "execute_result"
    }
   ],
   "source": [
    "d['bands'][0]['baseCapacity']"
   ]
  },
  {
   "cell_type": "code",
   "execution_count": 25,
   "metadata": {},
   "outputs": [
    {
     "data": {
      "text/plain": [
       "42"
      ]
     },
     "execution_count": 25,
     "metadata": {},
     "output_type": "execute_result"
    }
   ],
   "source": [
    "len(d['bands'][2]['licenses'])"
   ]
  },
  {
   "cell_type": "code",
   "execution_count": 9,
   "metadata": {},
   "outputs": [
    {
     "data": {
      "text/plain": [
       "14"
      ]
     },
     "execution_count": 9,
     "metadata": {},
     "output_type": "execute_result"
    }
   ],
   "source": [
    "len(d['regionsMap']['adjacencyGraph'])"
   ]
  },
  {
   "cell_type": "code",
   "execution_count": 33,
   "metadata": {},
   "outputs": [
    {
     "data": {
      "text/plain": [
       "{'1': 1.1, '2': 1.2, '3': 1.1}"
      ]
     },
     "execution_count": 33,
     "metadata": {},
     "output_type": "execute_result"
    }
   ],
   "source": [
    "d['bands'][2]['synergies']"
   ]
  },
  {
   "cell_type": "code",
   "execution_count": 24,
   "metadata": {},
   "outputs": [
    {
     "data": {
      "text/plain": [
       "['UNPAIRED', 'LOW_PAIRED', 'HIGH_PAIRED']"
      ]
     },
     "execution_count": 24,
     "metadata": {},
     "output_type": "execute_result"
    }
   ],
   "source": [
    "[x['name'] for x in d['bands']]"
   ]
  },
  {
   "cell_type": "code",
   "execution_count": 15,
   "metadata": {},
   "outputs": [],
   "source": [
    "import torch\n",
    "from torch import nn\n",
    "\n",
    "class ValueFunction(nn.Module):\n",
    "    def __init__(self, items, device='cuda' if torch.cuda.is_available() else 'cpu'):\n",
    "        super().__init__()\n",
    "        self.items = items\n",
    "        self.device = device\n",
    "\n",
    "    def forward(self, bundle):\n",
    "        raise NotImplementedError(\"This is abstract value function! :(\")"
   ]
  },
  {
   "cell_type": "code",
   "execution_count": 138,
   "metadata": {},
   "outputs": [],
   "source": [
    "class MRVMValueFunction(ValueFunction):\n",
    "    def __init__(self, items, bidder, world, device='cuda' if torch.cuda.is_available() else 'cpu'):\n",
    "        super().__init__(items, device)\n",
    "        self.alpha = bidder['alpha']\n",
    "        self.beta = list(bidder['beta'].values())\n",
    "        self.R = len(world['regionsMap']['adjacencyGraph'])\n",
    "        p = []\n",
    "        for i in range(self.R):\n",
    "            p.append(world['regionsMap']['adjacencyGraph'][i]['node']['population'])\n",
    "        self.p = p\n",
    "        self.zlow = list(bidder['zLow'].values())\n",
    "        self.zhigh = list(bidder['zHigh'].values())\n",
    "        self.t = bidder['setupType'].split()[3]\n",
    "        self.bands = world['bands']\n",
    "        self.bidder = bidder\n",
    "        self.world = world\n",
    "\n",
    "    def forward(self, x):\n",
    "        output = 0\n",
    "        for r in range(self.R):\n",
    "            output += self.beta[r] * self.p[r] * self.sv(r, self.bandwidth(r, x.reshape(-1,))) * self.Gamma(r, x)\n",
    "        return torch.tensor([output], device=self.device).float()\n",
    "\n",
    "    def cap(self, b, r, x):\n",
    "        c_b = self.bands[b]['baseCapacity']\n",
    "        x_br = 0\n",
    "        for i in range(self.bands[b]['numberOfLots']):\n",
    "            if x[self.bands[b]['licenses'][r+i*self.R]['longId']] == 1:\n",
    "                x_br += 1\n",
    "        syn = 0\n",
    "        if x_br > 0:\n",
    "            syn = self.bands[b]['synergies'][str(x_br)]\n",
    "        return c_b * x_br * syn\n",
    "    \n",
    "    def bandwidth(self, r, x):\n",
    "        sum = 0\n",
    "        for b in range(len(self.bands)):\n",
    "            sum += self.cap(b, r, x)\n",
    "        return sum\n",
    "    \n",
    "    def sv(self, r, c):\n",
    "        p1 = 0\n",
    "        p2 = self.zlow[r] * self.p[r] * self.beta[r]\n",
    "        p3 = self.zhigh[r] * self.p[r] * self.beta[r]\n",
    "        p4 = self.bandwidth(r, [1 for _ in range(len(self.items))])\n",
    "        if (c >= p1) and (c <= p2):\n",
    "            return ((c-p1)/(p2-p1)) * (0.27*self.alpha)\n",
    "        if (c >= p2) and (c <= p3):\n",
    "            return (((c-p2)/(p3-p2)) * (0.46*self.alpha)) + (0.27*self.alpha)\n",
    "        return (((c-p3)/(p4-p3)) * (0.27*self.alpha)) + (0.73*self.alpha)\n",
    "    \n",
    "    def Gamma(self, r, x):\n",
    "        if self.t == 'Local':\n",
    "            if r in self.bidder['regionsOfInterest']:\n",
    "                return 1\n",
    "            else:\n",
    "                return 0\n",
    "        \n",
    "            \n",
    "        "
   ]
  },
  {
   "cell_type": "code",
   "execution_count": 139,
   "metadata": {},
   "outputs": [],
   "source": [
    "items = list(range(98))\n",
    "v = MRVMValueFunction(items, b, d)"
   ]
  },
  {
   "cell_type": "code",
   "execution_count": 142,
   "metadata": {},
   "outputs": [],
   "source": [
    "x = [1 for _ in range(98)]\n",
    "x[12] = 1\n",
    "x[25] = 0\n",
    "x[66] = 0\n",
    "x = torch.tensor(x, device='cuda').float()\n",
    "#x.reshape(1, -1)"
   ]
  },
  {
   "cell_type": "code",
   "execution_count": 127,
   "metadata": {},
   "outputs": [
    {
     "data": {
      "text/plain": [
       "tensor([1., 1., 1., 1., 1., 1., 1., 1., 1., 1., 1., 1., 1., 1., 1., 1., 1., 1.,\n",
       "        1., 1., 1., 1., 1., 1., 1., 0., 1., 1., 1., 1., 1., 1., 1., 1., 1., 1.,\n",
       "        1., 1., 1., 1., 1., 1., 1., 1., 1., 1., 1., 1., 1., 1., 1., 1., 1., 1.,\n",
       "        1., 1., 1., 1., 1., 1., 1., 1., 1., 1., 1., 1., 0., 1., 1., 1., 1., 1.,\n",
       "        1., 1., 1., 1., 1., 1., 1., 1., 1., 1., 1., 1., 1., 1., 1., 1., 1., 1.,\n",
       "        1., 1., 1., 1., 1., 1., 1., 1.], device='cuda:0')"
      ]
     },
     "execution_count": 127,
     "metadata": {},
     "output_type": "execute_result"
    }
   ],
   "source": [
    "x"
   ]
  },
  {
   "cell_type": "code",
   "execution_count": 140,
   "metadata": {},
   "outputs": [],
   "source": [
    "x = torch.ones(1, 98)"
   ]
  },
  {
   "cell_type": "code",
   "execution_count": 136,
   "metadata": {},
   "outputs": [],
   "source": [
    "y = x.view(-1,)"
   ]
  },
  {
   "cell_type": "code",
   "execution_count": 134,
   "metadata": {},
   "outputs": [
    {
     "data": {
      "text/plain": [
       "tensor([[1., 1., 1., 1., 1., 1., 1., 1., 1., 1., 1., 1., 1., 1., 1., 1., 1., 1.,\n",
       "         1., 1., 1., 1., 1., 1., 1., 1., 1., 1., 1., 1., 1., 1., 1., 1., 1., 1.,\n",
       "         1., 1., 1., 1., 1., 1., 1., 1., 1., 1., 1., 1., 1., 1., 1., 1., 1., 1.,\n",
       "         1., 1., 1., 1., 1., 1., 1., 1., 1., 1., 1., 1., 1., 1., 1., 1., 1., 1.,\n",
       "         1., 1., 1., 1., 1., 1., 1., 1., 1., 1., 1., 1., 1., 1., 1., 1., 1., 1.,\n",
       "         1., 1., 1., 1., 1., 1., 1., 1.]])"
      ]
     },
     "execution_count": 134,
     "metadata": {},
     "output_type": "execute_result"
    }
   ],
   "source": [
    "x"
   ]
  },
  {
   "cell_type": "code",
   "execution_count": 143,
   "metadata": {},
   "outputs": [
    {
     "data": {
      "text/plain": [
       "tensor([95624208.], device='cuda:0')"
      ]
     },
     "execution_count": 143,
     "metadata": {},
     "output_type": "execute_result"
    }
   ],
   "source": [
    "v(x)"
   ]
  },
  {
   "cell_type": "code",
   "execution_count": 53,
   "metadata": {},
   "outputs": [],
   "source": [
    "class DSFValueFunction(ValueFunction):\n",
    "    def __init__(self, items, max_out, hidden_sizes, alpha, device='cuda' if torch.cuda.is_available() else 'cpu'):\n",
    "        super().__init__(items, device)\n",
    "        self.dsf =  DSF(len(items), 1, max_out, hidden_sizes, alpha).to(device)\n",
    "\n",
    "    def forward(self, bundle):  # `bundle` can be a batch of bundles\n",
    "        return self.dsf(bundle)"
   ]
  },
  {
   "cell_type": "code",
   "execution_count": 52,
   "metadata": {},
   "outputs": [],
   "source": [
    "from comblearn.nn import DSF, Modular, Universe"
   ]
  },
  {
   "cell_type": "code",
   "execution_count": 64,
   "metadata": {},
   "outputs": [],
   "source": [
    "i = list(range(10))\n",
    "x = [1 for _ in range(10)]\n",
    "x = torch.tensor(x, device='cuda').float()"
   ]
  },
  {
   "cell_type": "code",
   "execution_count": 65,
   "metadata": {},
   "outputs": [],
   "source": [
    "vs = DSFValueFunction(i, 10, [2, 3, 2], 5)"
   ]
  },
  {
   "cell_type": "code",
   "execution_count": 70,
   "metadata": {},
   "outputs": [
    {
     "data": {
      "text/plain": [
       "torch.Size([1])"
      ]
     },
     "execution_count": 70,
     "metadata": {},
     "output_type": "execute_result"
    }
   ],
   "source": [
    "vs(x).shape"
   ]
  }
 ],
 "metadata": {
  "kernelspec": {
   "display_name": "auction",
   "language": "python",
   "name": "python3"
  },
  "language_info": {
   "codemirror_mode": {
    "name": "ipython",
    "version": 3
   },
   "file_extension": ".py",
   "mimetype": "text/x-python",
   "name": "python",
   "nbconvert_exporter": "python",
   "pygments_lexer": "ipython3",
   "version": "3.11.5"
  },
  "orig_nbformat": 4
 },
 "nbformat": 4,
 "nbformat_minor": 2
}
