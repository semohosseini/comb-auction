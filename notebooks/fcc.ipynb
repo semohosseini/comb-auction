{
 "cells": [
  {
   "cell_type": "code",
   "execution_count": 1,
   "metadata": {},
   "outputs": [],
   "source": [
    "import pandas as pd"
   ]
  },
  {
   "cell_type": "code",
   "execution_count": 2,
   "metadata": {},
   "outputs": [],
   "source": [
    "df = pd.read_csv('fcc_101_28GHz.csv')"
   ]
  },
  {
   "cell_type": "code",
   "execution_count": 3,
   "metadata": {},
   "outputs": [
    {
     "data": {
      "text/plain": [
       "Index(['auction_id', 'round', 'item', 'item_description', 'bidding_units',\n",
       "       'new_bids', 'tied_bids', 'pw_bidder', 'pw_bidder_frn', 'pwb_amount',\n",
       "       'bidding_credit', 'net_pwb_amount', 'round_of_pwb', 'increments_of_pwb',\n",
       "       'date_of_pwb', 'previous_pw_bidder', 'previous_pw_bidder_frn',\n",
       "       'previous_pwb_amount', 'previous_pwb_bidding_credit',\n",
       "       'previous_net_pwb_amount', 'round_of_previous_pwb', 'item_closed',\n",
       "       'block', 'population', 'bandwidth', 'market',\n",
       "       'market_based_small_business_bidding_credit_cap',\n",
       "       'market_based_rural_bidding_credit_cap'],\n",
       "      dtype='object')"
      ]
     },
     "execution_count": 3,
     "metadata": {},
     "output_type": "execute_result"
    }
   ],
   "source": [
    "df.columns"
   ]
  },
  {
   "cell_type": "code",
   "execution_count": 4,
   "metadata": {},
   "outputs": [
    {
     "name": "stdout",
     "output_type": "stream",
     "text": [
      "Dataset size: 540672\n"
     ]
    }
   ],
   "source": [
    "print(f\"Dataset size: {len(df)}\")"
   ]
  },
  {
   "cell_type": "code",
   "execution_count": 5,
   "metadata": {},
   "outputs": [
    {
     "name": "stdout",
     "output_type": "stream",
     "text": [
      "Auction ID: {101}, Rounds: 176, Items: 3072, Bidders: 38\n"
     ]
    }
   ],
   "source": [
    "print(f\"Auction ID: {set(df['auction_id'])}, Rounds: {len(set(df['round']))}, Items: {len(set(df['item']))}, Bidders: {len(set(df['pw_bidder']))}\")"
   ]
  },
  {
   "cell_type": "code",
   "execution_count": 6,
   "metadata": {},
   "outputs": [],
   "source": [
    "df = df.sort_values(by=['round'], ascending=True)"
   ]
  },
  {
   "cell_type": "code",
   "execution_count": 7,
   "metadata": {},
   "outputs": [
    {
     "data": {
      "text/plain": [
       "auction_id                                                         101\n",
       "round                                                                1\n",
       "item                                                         C20085-L2\n",
       "item_description                                           Jackson, KS\n",
       "bidding_units                                                       57\n",
       "new_bids                                                             1\n",
       "tied_bids                                                          0.0\n",
       "pw_bidder                                         T-Mobile License LLC\n",
       "pw_bidder_frn                                                  1565449\n",
       "pwb_amount                                                        1100\n",
       "bidding_credit                                                     0.0\n",
       "net_pwb_amount                                                    1100\n",
       "round_of_pwb                                                         1\n",
       "increments_of_pwb                                                  1.0\n",
       "date_of_pwb                                                 2018-11-14\n",
       "previous_pw_bidder                                                 NaN\n",
       "previous_pw_bidder_frn                                             NaN\n",
       "previous_pwb_amount                                                NaN\n",
       "previous_pwb_bidding_credit                                        NaN\n",
       "previous_net_pwb_amount                                            NaN\n",
       "round_of_previous_pwb                                              NaN\n",
       "item_closed                                                          N\n",
       "block                                                               L2\n",
       "population                                                       13462\n",
       "bandwidth                                                          425\n",
       "market                                                          C20085\n",
       "market_based_small_business_bidding_credit_cap                       Y\n",
       "market_based_rural_bidding_credit_cap                                Y\n",
       "Name: 538429, dtype: object"
      ]
     },
     "execution_count": 7,
     "metadata": {},
     "output_type": "execute_result"
    }
   ],
   "source": [
    "df.iloc[200]"
   ]
  },
  {
   "attachments": {},
   "cell_type": "markdown",
   "metadata": {},
   "source": [
    "## Auction Implementation"
   ]
  },
  {
   "cell_type": "code",
   "execution_count": 8,
   "metadata": {},
   "outputs": [],
   "source": [
    "import torch\n",
    "import torch.nn as nn\n",
    "import logging\n",
    "\n",
    "from comblearn.data import DSFValueFunction\n",
    "from comblearn.env import CombinatorialAuctionWithData\n",
    "\n",
    "logging.basicConfig(level=20)"
   ]
  },
  {
   "cell_type": "code",
   "execution_count": 9,
   "metadata": {},
   "outputs": [],
   "source": [
    "device = 'cuda'\n",
    "\n",
    "def social_welfare(ws, allocation):\n",
    "    return torch.sum(torch.tensor([w(alloc) for w, alloc in zip(ws, allocation)]).to(device))"
   ]
  },
  {
   "cell_type": "code",
   "execution_count": 30,
   "metadata": {},
   "outputs": [
    {
     "name": "stdout",
     "output_type": "stream",
     "text": [
      "torch.Size([176, 3072]) torch.Size([176, 1]) 1030660.0 3072\n",
      "torch.Size([176, 3072]) torch.Size([176, 1]) 129404200.0 3072\n",
      "torch.Size([176, 3072]) torch.Size([176, 1]) 5714810.0 3072\n",
      "torch.Size([176, 3072]) torch.Size([176, 1]) 6233290.0 3072\n",
      "torch.Size([175, 3072]) torch.Size([175, 1]) 65980.0 3072\n",
      "torch.Size([176, 3072]) torch.Size([176, 1]) 59000.0 3072\n",
      "torch.Size([176, 3072]) torch.Size([176, 1]) 1040150.0 3072\n",
      "torch.Size([176, 3072]) torch.Size([176, 1]) 75430960.0 3072\n",
      "torch.Size([175, 3072]) torch.Size([175, 1]) 435400.0 3072\n",
      "torch.Size([175, 3072]) torch.Size([175, 1]) 2336400.0 3072\n",
      "torch.Size([176, 3072]) torch.Size([176, 1]) 193190.0 3072\n",
      "torch.Size([176, 3072]) torch.Size([176, 1]) 34950.0 3072\n",
      "torch.Size([173, 3072]) torch.Size([173, 1]) 209300.0 3072\n",
      "torch.Size([131, 3072]) torch.Size([131, 1]) 24300.0 3072\n",
      "torch.Size([176, 3072]) torch.Size([176, 1]) 58000.0 3072\n",
      "torch.Size([171, 3072]) torch.Size([171, 1]) 1184000.0 3072\n",
      "torch.Size([176, 3072]) torch.Size([176, 1]) 374950.0 3072\n",
      "torch.Size([176, 3072]) torch.Size([176, 1]) 7675780.0 3072\n",
      "torch.Size([176, 3072]) torch.Size([176, 1]) 0.0 3072\n",
      "torch.Size([176, 3072]) torch.Size([176, 1]) 1772500.0 3072\n",
      "torch.Size([175, 3072]) torch.Size([175, 1]) 1537600.0 3072\n",
      "torch.Size([22, 3072]) torch.Size([22, 1]) 6437000.0 3072\n",
      "torch.Size([176, 3072]) torch.Size([176, 1]) 161880.0 3072\n",
      "torch.Size([24, 3072]) torch.Size([24, 1]) 106500.0 3072\n",
      "torch.Size([176, 3072]) torch.Size([176, 1]) 559400.0 3072\n",
      "torch.Size([11, 3072]) torch.Size([11, 1]) 8200.0 3072\n",
      "torch.Size([176, 3072]) torch.Size([176, 1]) 736200.0 3072\n",
      "torch.Size([176, 3072]) torch.Size([176, 1]) 5809000.0 3072\n",
      "torch.Size([176, 3072]) torch.Size([176, 1]) 918100.0 3072\n",
      "torch.Size([176, 3072]) torch.Size([176, 1]) 564533300.0 3072\n",
      "torch.Size([176, 3072]) torch.Size([176, 1]) 1072360.0 3072\n",
      "torch.Size([174, 3072]) torch.Size([174, 1]) 371940.0 3072\n",
      "torch.Size([176, 3072]) torch.Size([176, 1]) 414180.0 3072\n",
      "torch.Size([176, 3072]) torch.Size([176, 1]) 3116400.0 3072\n",
      "torch.Size([175, 3072]) torch.Size([175, 1]) 897410.0 3072\n",
      "torch.Size([176, 3072]) torch.Size([176, 1]) 335000.0 3072\n",
      "torch.Size([176, 3072]) torch.Size([176, 1]) 19140.0 3072\n",
      "torch.Size([176, 3072]) torch.Size([176, 1]) 36840.0 3072\n"
     ]
    }
   ],
   "source": [
    "bidders = list(set(df['pw_bidder']))\n",
    "items = []\n",
    "\n",
    "dataset = []\n",
    "value_functions = []\n",
    "for bidder in bidders:\n",
    "    ds = df.loc[df['pw_bidder'] == bidder].groupby(['round']).agg({'pwb_amount': 'sum'}).join(pd.get_dummies(df['item']))\n",
    "    X, y = torch.tensor(ds[ds.columns[1:]].values.tolist()).float(), torch.tensor(ds['pwb_amount'].values.tolist()).float().unsqueeze(1)\n",
    "    items = list(ds.columns[1:])\n",
    "    dataset.append((X, y))\n",
    "    print(X.shape, y.shape, torch.max(y).numpy(), len(items))\n",
    "    value_functions.append(DSFValueFunction(items, torch.max(y).numpy(), [5, 6, 3], [5000, 3000, 2000]))"
   ]
  },
  {
   "cell_type": "code",
   "execution_count": 31,
   "metadata": {},
   "outputs": [
    {
     "name": "stderr",
     "output_type": "stream",
     "text": [
      "INFO:root:Allocation calculation...\n",
      "INFO:root:Bidder 1, loss: 159473991680.0\n",
      "INFO:root:Bidder 2, loss: 3037593876824064.0\n",
      "INFO:root:Bidder 3, loss: 12707663183872.0\n",
      "INFO:root:Bidder 4, loss: 6048503037952.0\n",
      "INFO:root:Bidder 5, loss: 605673344.0\n",
      "INFO:root:Bidder 6, loss: 391172960.0\n",
      "INFO:root:Bidder 7, loss: 437623783424.0\n",
      "INFO:root:Bidder 8, loss: 1598154780704768.0\n",
      "INFO:root:Bidder 9, loss: 45894164480.0\n",
      "INFO:root:Bidder 10, loss: 1924135780352.0\n",
      "INFO:root:Bidder 11, loss: 2190402560.0\n",
      "INFO:root:Bidder 12, loss: 401025888.0\n",
      "INFO:root:Bidder 13, loss: 13405801472.0\n",
      "INFO:root:Bidder 14, loss: 245941968.0\n",
      "INFO:root:Bidder 15, loss: 726014784.0\n",
      "INFO:root:Bidder 16, loss: 246352822272.0\n",
      "INFO:root:Bidder 17, loss: 118993305600.0\n",
      "INFO:root:Bidder 18, loss: 32097242710016.0\n",
      "INFO:root:Bidder 19, loss: 0.0\n",
      "INFO:root:Bidder 20, loss: 2084692688896.0\n",
      "INFO:root:Bidder 21, loss: 555981144064.0\n",
      "INFO:root:Bidder 22, loss: 13665226981376.0\n",
      "INFO:root:Bidder 23, loss: 11499528192.0\n",
      "INFO:root:Bidder 24, loss: 8985462784.0\n",
      "INFO:root:Bidder 25, loss: 115502653440.0\n",
      "INFO:root:Bidder 26, loss: 41186880.0\n",
      "INFO:root:Bidder 27, loss: 182448291840.0\n",
      "INFO:root:Bidder 28, loss: 7839460360192.0\n",
      "INFO:root:Bidder 29, loss: 154761871360.0\n",
      "INFO:root:Bidder 30, loss: 3.952200988491776e+16\n",
      "INFO:root:Bidder 31, loss: 403436011520.0\n",
      "INFO:root:Bidder 32, loss: 9416865792.0\n",
      "INFO:root:Bidder 33, loss: 123985084416.0\n",
      "INFO:root:Bidder 34, loss: 973624508416.0\n",
      "INFO:root:Bidder 35, loss: 572257665024.0\n",
      "INFO:root:Bidder 36, loss: 53214613504.0\n",
      "INFO:root:Bidder 37, loss: 58512588.0\n",
      "INFO:root:Bidder 38, loss: 538089280.0\n"
     ]
    }
   ],
   "source": [
    "auction = CombinatorialAuctionWithData(bidders, items, dataset, value_functions)\n",
    "allocations, payments = auction.run(epochs=1000, lr=0.001, delta=0.005, sample_rate=40)"
   ]
  }
 ],
 "metadata": {
  "kernelspec": {
   "display_name": "auction",
   "language": "python",
   "name": "python3"
  },
  "language_info": {
   "codemirror_mode": {
    "name": "ipython",
    "version": 3
   },
   "file_extension": ".py",
   "mimetype": "text/x-python",
   "name": "python",
   "nbconvert_exporter": "python",
   "pygments_lexer": "ipython3",
   "version": "3.10.8"
  },
  "orig_nbformat": 4,
  "vscode": {
   "interpreter": {
    "hash": "909eed02064ca41586502fb390c5b7e541513ed630e029cf293fbc8142b7695c"
   }
  }
 },
 "nbformat": 4,
 "nbformat_minor": 2
}
