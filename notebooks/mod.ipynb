{
 "cells": [
  {
   "cell_type": "code",
   "execution_count": 1,
   "metadata": {},
   "outputs": [],
   "source": [
    "import torch\n",
    "import torch.nn as nn\n",
    "import logging\n",
    "\n",
    "from comblearn.data import DSFValueFunction\n",
    "from comblearn.env import CombinatorialAuction\n",
    "\n",
    "logging.basicConfig(level=20)"
   ]
  },
  {
   "cell_type": "code",
   "execution_count": 11,
   "metadata": {},
   "outputs": [],
   "source": [
    "logger = logging.getLogger()\n",
    "assert len(logger.handlers) == 1\n",
    "handler = logger.handlers[0]\n",
    "handler.setLevel(logging.INFO)"
   ]
  },
  {
   "cell_type": "code",
   "execution_count": 2,
   "metadata": {},
   "outputs": [],
   "source": [
    "device = 'cuda'\n",
    "\n",
    "class MyModular(nn.Module):\n",
    "    def __init__(self, k):\n",
    "        super(MyModular, self).__init__()\n",
    "        self.w = torch.randint(0, 5, (k, 1)).float().to(device)\n",
    "        logging.info(f\"{self.w.squeeze()}\")\n",
    "\n",
    "    def forward(self, x):\n",
    "        return torch.matmul(x, self.w)\n",
    "\n",
    "\n",
    "def social_welfare(ws, allocation):\n",
    "    return torch.sum(torch.tensor([w(alloc) for w, alloc in zip(ws, allocation)]).to(device))"
   ]
  },
  {
   "cell_type": "code",
   "execution_count": 3,
   "metadata": {},
   "outputs": [
    {
     "name": "stderr",
     "output_type": "stream",
     "text": [
      "INFO:root:tensor([3., 2., 3., 1., 3., 4., 2., 2.], device='cuda:0')\n",
      "INFO:root:tensor([1., 0., 3., 1., 0., 4., 4., 3.], device='cuda:0')\n",
      "INFO:root:tensor([4., 4., 2., 0., 1., 3., 1., 1.], device='cuda:0')\n",
      "INFO:root:tensor([0., 0., 2., 1., 3., 0., 2., 2.], device='cuda:0')\n",
      "INFO:root:tensor([2., 4., 4., 4., 0., 1., 3., 3.], device='cuda:0')\n"
     ]
    }
   ],
   "source": [
    "N = 5\n",
    "m = 8\n",
    "bidders = list(range(N))\n",
    "q_init = 500\n",
    "q_max = 505\n",
    "items = list(range(m))\n",
    "\n",
    "value_functions = [MyModular(m), \n",
    "                   MyModular(m), \n",
    "                   MyModular(m), \n",
    "                   MyModular(m), \n",
    "                   MyModular(m)]\n",
    "\n",
    "value_functions_l = [DSFValueFunction(items, 110, [3], 300), \n",
    "                     DSFValueFunction(items, 110, [3], 300), \n",
    "                     DSFValueFunction(items, 110, [3], 300), \n",
    "                     DSFValueFunction(items, 110, [3], 300), \n",
    "                     DSFValueFunction(items, 110, [3], 300)]"
   ]
  },
  {
   "cell_type": "code",
   "execution_count": 4,
   "metadata": {},
   "outputs": [
    {
     "name": "stderr",
     "output_type": "stream",
     "text": [
      "INFO:root:Query generation...\n",
      "INFO:root:Step: 1/1, Query shapes: [torch.Size([500, 8]), torch.Size([500, 8]), torch.Size([500, 8]), torch.Size([500, 8]), torch.Size([500, 8])]\n",
      "INFO:root:Generating main query...\n",
      "INFO:root:Bidder 1, loss: 0.17644347250461578\n",
      "INFO:root:Bidder 2, loss: 0.3633887469768524\n",
      "INFO:root:Bidder 3, loss: 0.2133006602525711\n",
      "INFO:root:Bidder 4, loss: 0.6473228931427002\n",
      "INFO:root:Bidder 5, loss: 0.5775323510169983\n",
      "INFO:root:t: 0.2500000000000001/1\n",
      "INFO:root:t: 0.5000000000000003/1\n",
      "INFO:root:t: 0.7500000000000006/1\n",
      "INFO:root:t: 1.0000000000000007/1\n",
      "INFO:root:Main query generated.\n",
      "INFO:root:Generating marginal queries...\n",
      "INFO:root:Bidder 1, loss: 0.03771185874938965\n",
      "INFO:root:Bidder 2, loss: 0.056291498243808746\n",
      "INFO:root:Bidder 3, loss: 0.20315274596214294\n",
      "INFO:root:Bidder 4, loss: 0.057892199605703354\n",
      "INFO:root:t: 0.2500000000000001/1\n",
      "INFO:root:t: 0.5000000000000003/1\n",
      "INFO:root:t: 0.7500000000000006/1\n",
      "INFO:root:t: 1.0000000000000007/1\n",
      "INFO:root:Marginal query 1 generated\n",
      "INFO:root:Bidder 1, loss: 0.00849989615380764\n",
      "INFO:root:Bidder 2, loss: 0.019100960344076157\n",
      "INFO:root:Bidder 3, loss: 0.06089033931493759\n",
      "INFO:root:Bidder 4, loss: 0.01845731772482395\n",
      "INFO:root:t: 0.2500000000000001/1\n",
      "INFO:root:t: 0.5000000000000003/1\n",
      "INFO:root:t: 0.7500000000000006/1\n",
      "INFO:root:t: 1.0000000000000007/1\n",
      "INFO:root:Marginal query 2 generated\n",
      "INFO:root:Bidder 1, loss: 0.00042506822501309216\n",
      "INFO:root:Bidder 2, loss: 0.006705516017973423\n",
      "INFO:root:Bidder 3, loss: 0.019266923889517784\n",
      "INFO:root:Bidder 4, loss: 0.012643067166209221\n",
      "INFO:root:t: 0.2500000000000001/1\n",
      "INFO:root:t: 0.5000000000000003/1\n",
      "INFO:root:t: 0.7500000000000006/1\n",
      "INFO:root:t: 1.0000000000000007/1\n",
      "INFO:root:Marginal query 3 generated\n",
      "INFO:root:Bidder 1, loss: 2.2576139599550515e-05\n",
      "INFO:root:Bidder 2, loss: 0.0012987316586077213\n",
      "INFO:root:Bidder 3, loss: 0.007095278240740299\n",
      "INFO:root:Bidder 4, loss: 0.009375005960464478\n",
      "INFO:root:t: 0.2500000000000001/1\n",
      "INFO:root:t: 0.5000000000000003/1\n",
      "INFO:root:t: 0.7500000000000006/1\n",
      "INFO:root:t: 1.0000000000000007/1\n",
      "INFO:root:Marginal query 4 generated\n",
      "INFO:root:Bidder 1, loss: 1.251582830263942e-06\n",
      "INFO:root:Bidder 2, loss: 0.00025213343906216323\n",
      "INFO:root:Bidder 3, loss: 0.002687260741367936\n",
      "INFO:root:Bidder 4, loss: 0.007341804914176464\n",
      "INFO:root:t: 0.2500000000000001/1\n",
      "INFO:root:t: 0.5000000000000003/1\n",
      "INFO:root:t: 0.7500000000000006/1\n",
      "INFO:root:t: 1.0000000000000007/1\n",
      "INFO:root:Marginal query 5 generated\n",
      "INFO:root:Final allocation calculation...\n",
      "INFO:root:Bidder 1, loss: 7.309219540729828e-08\n",
      "INFO:root:Bidder 2, loss: 4.892875949735753e-05\n",
      "INFO:root:Bidder 3, loss: 0.001016516238451004\n",
      "INFO:root:Bidder 4, loss: 0.0034814965911209583\n",
      "INFO:root:Bidder 5, loss: 0.007189393043518066\n",
      "INFO:root:t: 0.2500000000000001/1\n",
      "INFO:root:t: 0.5000000000000003/1\n",
      "INFO:root:t: 0.7500000000000006/1\n",
      "INFO:root:t: 1.0000000000000007/1\n",
      "INFO:root:Optimal allocation: [tensor([0., 0., 0., 0., 1., 1., 0., 0.], device='cuda:0'), tensor([0., 0., 0., 0., 0., 0., 1., 1.], device='cuda:0'), tensor([1., 1., 0., 0., 0., 0., 0., 0.], device='cuda:0'), tensor([0., 0., 0., 0., 0., 0., 0., 0.], device='cuda:0'), tensor([0., 0., 1., 1., 0., 0., 0., 0.], device='cuda:0')]\n",
      "INFO:root:Social welfare: 29.92001724243164\n",
      "INFO:root:Payment calculation..\n",
      "INFO:root:t: 0.2500000000000001/1\n",
      "INFO:root:t: 0.5000000000000003/1\n",
      "INFO:root:t: 0.7500000000000006/1\n",
      "INFO:root:t: 1.0000000000000007/1\n",
      "INFO:root:t: 0.2500000000000001/1\n",
      "INFO:root:t: 0.5000000000000003/1\n",
      "INFO:root:t: 0.7500000000000006/1\n",
      "INFO:root:t: 1.0000000000000007/1\n",
      "INFO:root:t: 0.2500000000000001/1\n",
      "INFO:root:t: 0.5000000000000003/1\n",
      "INFO:root:t: 0.7500000000000006/1\n",
      "INFO:root:t: 1.0000000000000007/1\n",
      "INFO:root:t: 0.2500000000000001/1\n",
      "INFO:root:t: 0.5000000000000003/1\n",
      "INFO:root:t: 0.7500000000000006/1\n",
      "INFO:root:t: 1.0000000000000007/1\n",
      "INFO:root:t: 0.2500000000000001/1\n",
      "INFO:root:t: 0.5000000000000003/1\n",
      "INFO:root:t: 0.7500000000000006/1\n",
      "INFO:root:t: 1.0000000000000007/1\n",
      "INFO:root:Payments: tensor([-1.0272, -5.0152, -3.9901, -1.0206, -6.9606], device='cuda:0')\n"
     ]
    }
   ],
   "source": [
    "\n",
    "auction = CombinatorialAuction(bidders, items, value_functions, value_functions_l, q_init, q_max)\n",
    "allocations, payments = auction.run(epochs=1000, lr=0.001, delta=0.005, sample_rate=5)"
   ]
  }
 ],
 "metadata": {
  "kernelspec": {
   "display_name": "auction",
   "language": "python",
   "name": "python3"
  },
  "language_info": {
   "codemirror_mode": {
    "name": "ipython",
    "version": 3
   },
   "file_extension": ".py",
   "mimetype": "text/x-python",
   "name": "python",
   "nbconvert_exporter": "python",
   "pygments_lexer": "ipython3",
   "version": "3.10.8"
  },
  "orig_nbformat": 4,
  "vscode": {
   "interpreter": {
    "hash": "909eed02064ca41586502fb390c5b7e541513ed630e029cf293fbc8142b7695c"
   }
  }
 },
 "nbformat": 4,
 "nbformat_minor": 2
}
