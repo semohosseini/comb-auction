{
 "cells": [
  {
   "cell_type": "code",
   "execution_count": 1,
   "metadata": {},
   "outputs": [],
   "source": [
    "import torch\n",
    "import torch.nn as nn\n",
    "import logging\n",
    "\n",
    "from comblearn.data import DSFValueFunction\n",
    "from comblearn.env import CombinatorialAuction\n",
    "\n",
    "logging.basicConfig(level=20)"
   ]
  },
  {
   "cell_type": "code",
   "execution_count": 2,
   "metadata": {},
   "outputs": [],
   "source": [
    "device = 'cuda'\n",
    "\n",
    "class MyModular(nn.Module):\n",
    "    def __init__(self, k):\n",
    "        super(MyModular, self).__init__()\n",
    "        self.w = torch.randint(0, 5, (k, 1)).float().to(device)\n",
    "        logging.info(f\"{self.w.squeeze()}\")\n",
    "\n",
    "    def forward(self, x):\n",
    "        return torch.matmul(x, self.w)\n",
    "\n",
    "\n",
    "def social_welfare(ws, allocation):\n",
    "    return torch.sum(torch.tensor([w(alloc) for w, alloc in zip(ws, allocation)]).to(device))"
   ]
  },
  {
   "cell_type": "code",
   "execution_count": 3,
   "metadata": {},
   "outputs": [
    {
     "name": "stderr",
     "output_type": "stream",
     "text": [
      "INFO:root:tensor([3., 0., 2., 0., 2., 2., 2., 4.], device='cuda:0')\n",
      "INFO:root:tensor([3., 0., 0., 0., 4., 1., 2., 4.], device='cuda:0')\n",
      "INFO:root:tensor([2., 4., 1., 3., 3., 0., 1., 1.], device='cuda:0')\n",
      "INFO:root:tensor([1., 4., 0., 4., 3., 2., 2., 2.], device='cuda:0')\n",
      "INFO:root:tensor([0., 2., 3., 2., 3., 2., 0., 2.], device='cuda:0')\n"
     ]
    }
   ],
   "source": [
    "N = 5\n",
    "m = 8\n",
    "bidders = list(range(N))\n",
    "q_init = 500\n",
    "q_max = 505\n",
    "items = list(range(m))\n",
    "\n",
    "value_functions = [MyModular(m), \n",
    "                   MyModular(m), \n",
    "                   MyModular(m), \n",
    "                   MyModular(m), \n",
    "                   MyModular(m)]\n",
    "\n",
    "value_functions_l = [DSFValueFunction(items, 110, [3], 300), \n",
    "                     DSFValueFunction(items, 110, [3], 300), \n",
    "                     DSFValueFunction(items, 110, [3], 300), \n",
    "                     DSFValueFunction(items, 110, [3], 300), \n",
    "                     DSFValueFunction(items, 110, [3], 300)]"
   ]
  },
  {
   "cell_type": "code",
   "execution_count": 4,
   "metadata": {},
   "outputs": [
    {
     "name": "stderr",
     "output_type": "stream",
     "text": [
      "INFO:root:Query generation...\n",
      "INFO:root:Step: 1/1, Query shapes: [torch.Size([500, 8]), torch.Size([500, 8]), torch.Size([500, 8]), torch.Size([500, 8]), torch.Size([500, 8])]\n",
      "INFO:root:Generating main query...\n",
      "INFO:root:Bidder 1, loss: 0.2921278178691864\n",
      "INFO:root:Bidder 2, loss: 0.21590274572372437\n",
      "INFO:root:Bidder 3, loss: 0.36010614037513733\n",
      "INFO:root:Bidder 4, loss: 0.6409538984298706\n",
      "INFO:root:Bidder 5, loss: 0.3023059368133545\n",
      "INFO:root:t: 0.2500000000000001/1\n",
      "INFO:root:t: 0.5000000000000003/1\n",
      "INFO:root:t: 0.7500000000000006/1\n",
      "INFO:root:t: 1.0000000000000007/1\n",
      "INFO:root:Main query generated.\n",
      "INFO:root:Generating marginal queries...\n",
      "INFO:root:Bidder 1, loss: 0.04956599324941635\n",
      "INFO:root:Bidder 2, loss: 0.06198917701840401\n",
      "INFO:root:Bidder 3, loss: 0.13902005553245544\n",
      "INFO:root:Bidder 4, loss: 0.12374050170183182\n",
      "INFO:root:t: 0.2500000000000001/1\n",
      "INFO:root:t: 0.5000000000000003/1\n",
      "INFO:root:t: 0.7500000000000006/1\n",
      "INFO:root:t: 1.0000000000000007/1\n",
      "INFO:root:Marginal query 1 generated\n",
      "INFO:root:Bidder 1, loss: 0.0346052348613739\n",
      "INFO:root:Bidder 2, loss: 0.021877486258745193\n",
      "INFO:root:Bidder 3, loss: 0.06369704008102417\n",
      "INFO:root:Bidder 4, loss: 0.05959019437432289\n",
      "INFO:root:t: 0.2500000000000001/1\n",
      "INFO:root:t: 0.5000000000000003/1\n",
      "INFO:root:t: 0.7500000000000006/1\n",
      "INFO:root:t: 1.0000000000000007/1\n",
      "INFO:root:Marginal query 2 generated\n",
      "INFO:root:Bidder 1, loss: 0.009952522814273834\n",
      "INFO:root:Bidder 2, loss: 0.01631639152765274\n",
      "INFO:root:Bidder 3, loss: 0.03897619992494583\n",
      "INFO:root:Bidder 4, loss: 0.03156932070851326\n",
      "INFO:root:t: 0.2500000000000001/1\n",
      "INFO:root:t: 0.5000000000000003/1\n",
      "INFO:root:t: 0.7500000000000006/1\n",
      "INFO:root:t: 1.0000000000000007/1\n",
      "INFO:root:Marginal query 3 generated\n",
      "INFO:root:Bidder 1, loss: 0.005470201838761568\n",
      "INFO:root:Bidder 2, loss: 0.005803363863378763\n",
      "INFO:root:Bidder 3, loss: 0.012050218880176544\n",
      "INFO:root:Bidder 4, loss: 0.01771521382033825\n",
      "INFO:root:t: 0.2500000000000001/1\n",
      "INFO:root:t: 0.5000000000000003/1\n",
      "INFO:root:t: 0.7500000000000006/1\n",
      "INFO:root:t: 1.0000000000000007/1\n",
      "INFO:root:Marginal query 4 generated\n",
      "INFO:root:Bidder 1, loss: 0.0032029759604483843\n",
      "INFO:root:Bidder 2, loss: 0.002083597471937537\n",
      "INFO:root:Bidder 3, loss: 0.00738248135894537\n",
      "INFO:root:Bidder 4, loss: 0.02554119937121868\n",
      "INFO:root:t: 0.2500000000000001/1\n",
      "INFO:root:t: 0.5000000000000003/1\n",
      "INFO:root:t: 0.7500000000000006/1\n",
      "INFO:root:t: 1.0000000000000007/1\n",
      "INFO:root:Marginal query 5 generated\n",
      "INFO:root:Final allocation calculation...\n",
      "INFO:root:Bidder 1, loss: 0.0018950881203636527\n",
      "INFO:root:Bidder 2, loss: 0.0007476825849153101\n",
      "INFO:root:Bidder 3, loss: 0.0046777306124567986\n",
      "INFO:root:Bidder 4, loss: 0.017119521275162697\n",
      "INFO:root:Bidder 5, loss: 0.010252499021589756\n",
      "INFO:root:t: 0.2500000000000001/1\n",
      "INFO:root:t: 0.5000000000000003/1\n",
      "INFO:root:t: 0.7500000000000006/1\n",
      "INFO:root:t: 1.0000000000000007/1\n",
      "INFO:root:Optimal allocation: [tensor([0., 0., 1., 0., 0., 1., 0., 0.], device='cuda:0'), tensor([1., 0., 0., 0., 0., 0., 1., 1.], device='cuda:0'), tensor([0., 0., 0., 0., 0., 0., 0., 0.], device='cuda:0'), tensor([0., 1., 0., 1., 0., 0., 0., 0.], device='cuda:0'), tensor([0., 0., 0., 0., 1., 0., 0., 0.], device='cuda:0')]\n",
      "INFO:root:Social welfare: 23.826475143432617\n",
      "INFO:root:Payment calculation..\n",
      "INFO:root:t: 0.2500000000000001/1\n",
      "INFO:root:t: 0.5000000000000003/1\n",
      "INFO:root:t: 0.7500000000000006/1\n",
      "INFO:root:t: 1.0000000000000007/1\n",
      "INFO:root:t: 0.2500000000000001/1\n",
      "INFO:root:t: 0.5000000000000003/1\n",
      "INFO:root:t: 0.7500000000000006/1\n",
      "INFO:root:t: 1.0000000000000007/1\n",
      "INFO:root:t: 0.2500000000000001/1\n",
      "INFO:root:t: 0.5000000000000003/1\n",
      "INFO:root:t: 0.7500000000000006/1\n",
      "INFO:root:t: 1.0000000000000007/1\n",
      "INFO:root:t: 0.2500000000000001/1\n",
      "INFO:root:t: 0.5000000000000003/1\n",
      "INFO:root:t: 0.7500000000000006/1\n",
      "INFO:root:t: 1.0000000000000007/1\n",
      "INFO:root:t: 0.2500000000000001/1\n",
      "INFO:root:t: 0.5000000000000003/1\n",
      "INFO:root:t: 0.7500000000000006/1\n",
      "INFO:root:t: 1.0000000000000007/1\n",
      "INFO:root:Payments: tensor([2.9010, 6.9977, 0.0000, 6.9568, 2.9989], device='cuda:0')\n"
     ]
    }
   ],
   "source": [
    "auction = CombinatorialAuction(bidders, items, value_functions, value_functions_l, q_init, q_max)\n",
    "allocations, payments = auction.run(epochs=1000, lr=0.001, delta=0.005, sample_rate=5)"
   ]
  }
 ],
 "metadata": {
  "kernelspec": {
   "display_name": "auction",
   "language": "python",
   "name": "python3"
  },
  "language_info": {
   "codemirror_mode": {
    "name": "ipython",
    "version": 3
   },
   "file_extension": ".py",
   "mimetype": "text/x-python",
   "name": "python",
   "nbconvert_exporter": "python",
   "pygments_lexer": "ipython3",
   "version": "3.10.8"
  },
  "orig_nbformat": 4,
  "vscode": {
   "interpreter": {
    "hash": "909eed02064ca41586502fb390c5b7e541513ed630e029cf293fbc8142b7695c"
   }
  }
 },
 "nbformat": 4,
 "nbformat_minor": 2
}
