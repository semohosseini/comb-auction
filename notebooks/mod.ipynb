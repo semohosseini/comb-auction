{
 "cells": [
  {
   "cell_type": "code",
   "execution_count": 1,
   "metadata": {},
   "outputs": [],
   "source": [
    "import torch\n",
    "import torch.nn as nn\n",
    "import logging\n",
    "\n",
    "from comblearn.data import DSFValueFunction\n",
    "from comblearn.env import CombinatorialAuction\n",
    "\n",
    "logging.basicConfig(level=20)"
   ]
  },
  {
   "cell_type": "code",
   "execution_count": 2,
   "metadata": {},
   "outputs": [],
   "source": [
    "import yaml \n",
    "\n",
    "with open(\"../config/config_mod.yaml\") as fp:\n",
    "        cfg = yaml.load(fp, Loader=yaml.FullLoader)"
   ]
  },
  {
   "cell_type": "code",
   "execution_count": 3,
   "metadata": {},
   "outputs": [],
   "source": [
    "device = \"cuda\"\n",
    "\n",
    "def social_welfare(ws, allocation):\n",
    "    return torch.sum(torch.tensor([w(alloc) for w, alloc in zip(ws, allocation)]).to(device))"
   ]
  },
  {
   "cell_type": "code",
   "execution_count": 4,
   "metadata": {},
   "outputs": [
    {
     "name": "stderr",
     "output_type": "stream",
     "text": [
      "INFO:root:tensor([0., 0., 6., 1., 1., 1., 3., 4.], grad_fn=<SqueezeBackward0>)\n"
     ]
    },
    {
     "name": "stderr",
     "output_type": "stream",
     "text": [
      "INFO:root:tensor([2., 2., 5., 3., 4., 4., 4., 4.], grad_fn=<SqueezeBackward0>)\n",
      "INFO:root:tensor([3., 1., 3., 5., 0., 0., 1., 1.], grad_fn=<SqueezeBackward0>)\n",
      "INFO:root:tensor([4., 0., 1., 6., 4., 0., 2., 4.], grad_fn=<SqueezeBackward0>)\n",
      "INFO:root:tensor([5., 4., 3., 3., 5., 6., 2., 6.], grad_fn=<SqueezeBackward0>)\n"
     ]
    }
   ],
   "source": [
    "auction = CombinatorialAuction(cfg['auction'])"
   ]
  },
  {
   "cell_type": "code",
   "execution_count": 5,
   "metadata": {},
   "outputs": [
    {
     "name": "stderr",
     "output_type": "stream",
     "text": [
      "INFO:root:Final allocation calculation...\n",
      "INFO:root:Bidder ali, loss: 0.004074868746101856\n",
      "INFO:root:Bidder hassan, loss: 6.783932443577001e-11\n",
      "INFO:root:Bidder mahdi, loss: 6.615036545554176e-05\n",
      "INFO:root:Bidder jafar, loss: 6.919712177477777e-05\n",
      "INFO:root:Bidder arash, loss: 1.800654070294172e-10\n",
      "INFO:root:t: 0.2500000000000001/1\n",
      "INFO:root:t: 0.5000000000000003/1\n",
      "INFO:root:t: 0.7500000000000006/1\n",
      "INFO:root:t: 1.0000000000000007/1\n",
      "INFO:root:Optimal allocation:\n",
      "INFO:root:(('ali', tensor([0., 0., 1., 0., 0., 0., 0., 1.], device='cuda:0')))\n",
      "INFO:root:(('hassan', tensor([0., 1., 0., 0., 0., 1., 1., 0.], device='cuda:0')))\n",
      "INFO:root:(('mahdi', tensor([0., 0., 0., 0., 0., 0., 0., 0.], device='cuda:0')))\n",
      "INFO:root:(('jafar', tensor([0., 0., 0., 1., 0., 0., 0., 0.], device='cuda:0')))\n",
      "INFO:root:(('arash', tensor([1., 0., 0., 0., 1., 0., 0., 0.], device='cuda:0')))\n",
      "INFO:root:Social welfare: 35.9562873840332\n",
      "INFO:root:Payment calculation..\n",
      "INFO:root:t: 0.2500000000000001/1\n",
      "INFO:root:t: 0.5000000000000003/1\n",
      "INFO:root:t: 0.7500000000000006/1\n",
      "INFO:root:t: 1.0000000000000007/1\n",
      "INFO:root:t: 0.2500000000000001/1\n",
      "INFO:root:t: 0.5000000000000003/1\n",
      "INFO:root:t: 0.7500000000000006/1\n",
      "INFO:root:t: 1.0000000000000007/1\n",
      "INFO:root:t: 0.2500000000000001/1\n",
      "INFO:root:t: 0.5000000000000003/1\n",
      "INFO:root:t: 0.7500000000000006/1\n",
      "INFO:root:t: 1.0000000000000007/1\n",
      "INFO:root:t: 0.2500000000000001/1\n",
      "INFO:root:t: 0.5000000000000003/1\n",
      "INFO:root:t: 0.7500000000000006/1\n",
      "INFO:root:t: 1.0000000000000007/1\n",
      "INFO:root:t: 0.2500000000000001/1\n",
      "INFO:root:t: 0.5000000000000003/1\n",
      "INFO:root:t: 0.7500000000000006/1\n",
      "INFO:root:t: 1.0000000000000007/1\n",
      "INFO:root:Payments: {'ali': tensor(10.0032), 'hassan': tensor(8.0054), 'mahdi': tensor(4.9730), 'jafar': tensor(6.0063), 'arash': tensor(4.9642)}\n"
     ]
    }
   ],
   "source": [
    "allocations, payments = auction.run()"
   ]
  }
 ],
 "metadata": {
  "kernelspec": {
   "display_name": "auction",
   "language": "python",
   "name": "python3"
  },
  "language_info": {
   "codemirror_mode": {
    "name": "ipython",
    "version": 3
   },
   "file_extension": ".py",
   "mimetype": "text/x-python",
   "name": "python",
   "nbconvert_exporter": "python",
   "pygments_lexer": "ipython3",
   "version": "3.10.8"
  },
  "orig_nbformat": 4,
  "vscode": {
   "interpreter": {
    "hash": "909eed02064ca41586502fb390c5b7e541513ed630e029cf293fbc8142b7695c"
   }
  }
 },
 "nbformat": 4,
 "nbformat_minor": 2
}
