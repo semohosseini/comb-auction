{
 "cells": [
  {
   "cell_type": "code",
   "execution_count": 1,
   "metadata": {},
   "outputs": [],
   "source": [
    "import torch\n",
    "import torch.nn as nn\n",
    "import logging\n",
    "\n",
    "from comblearn.data import DSFValueFunction\n",
    "from comblearn.env import CombinatorialAuction\n",
    "\n",
    "logging.basicConfig(level=20)"
   ]
  },
  {
   "cell_type": "code",
   "execution_count": 2,
   "metadata": {},
   "outputs": [],
   "source": [
    "import yaml \n",
    "\n",
    "with open(\"config_mod_mini.yaml\") as fp:\n",
    "        cfg = yaml.load(fp, Loader=yaml.FullLoader)"
   ]
  },
  {
   "cell_type": "code",
   "execution_count": 3,
   "metadata": {},
   "outputs": [],
   "source": [
    "device = \"cuda\"\n",
    "\n",
    "def social_welfare(ws, allocation):\n",
    "    return torch.sum(torch.tensor([w(alloc) for w, alloc in zip(ws, allocation)]).to(device))"
   ]
  },
  {
   "cell_type": "code",
   "execution_count": 4,
   "metadata": {},
   "outputs": [
    {
     "name": "stderr",
     "output_type": "stream",
     "text": [
      "INFO:root:tensor([6., 2., 2., 2., 1., 0., 6., 5.], grad_fn=<SqueezeBackward0>)\n"
     ]
    },
    {
     "name": "stderr",
     "output_type": "stream",
     "text": [
      "INFO:root:tensor([0., 3., 2., 0., 4., 3., 3., 3.], grad_fn=<SqueezeBackward0>)\n",
      "INFO:root:tensor([5., 4., 0., 5., 4., 0., 4., 6.], grad_fn=<SqueezeBackward0>)\n"
     ]
    },
    {
     "name": "stdout",
     "output_type": "stream",
     "text": [
      "Brute Force Search: done.\n",
      "Optimal Social Welfare: 36.0\n"
     ]
    }
   ],
   "source": [
    "auction = CombinatorialAuction(cfg['auction'])"
   ]
  },
  {
   "cell_type": "code",
   "execution_count": 5,
   "metadata": {},
   "outputs": [
    {
     "name": "stderr",
     "output_type": "stream",
     "text": [
      "INFO:root:Final allocation calculation...\n",
      "INFO:root:Bidder ali, loss: 3.03479429086817e-11\n",
      "INFO:root:Bidder hassan, loss: 0.0020684124901890755\n",
      "INFO:root:Bidder mahdi, loss: 1.1829964563503381e-08\n",
      "INFO:root:t: 0.2500000000000001/1\n",
      "INFO:root:t: 0.5000000000000003/1\n",
      "INFO:root:t: 0.7500000000000006/1\n",
      "INFO:root:t: 1.0000000000000007/1\n",
      "INFO:root:Optimal allocation:\n",
      "INFO:root:(('ali', tensor([0., 0., 0., 0., 0., 0., 1., 1.], device='cuda:0')))\n",
      "INFO:root:(('hassan', tensor([0., 1., 1., 0., 0., 1., 0., 0.], device='cuda:0')))\n",
      "INFO:root:(('mahdi', tensor([1., 0., 0., 1., 1., 0., 0., 0.], device='cuda:0')))\n",
      "INFO:root:Social welfare: 32.940040588378906\n",
      "INFO:root:Payment calculation..\n",
      "INFO:root:t: 0.2500000000000001/1\n",
      "INFO:root:t: 0.5000000000000003/1\n",
      "INFO:root:t: 0.7500000000000006/1\n",
      "INFO:root:t: 1.0000000000000007/1\n",
      "INFO:root:t: 0.2500000000000001/1\n",
      "INFO:root:t: 0.5000000000000003/1\n",
      "INFO:root:t: 0.7500000000000006/1\n",
      "INFO:root:t: 1.0000000000000007/1\n",
      "INFO:root:t: 0.2500000000000001/1\n",
      "INFO:root:t: 0.5000000000000003/1\n",
      "INFO:root:t: 0.7500000000000006/1\n",
      "INFO:root:t: 1.0000000000000007/1\n",
      "INFO:root:Payments: {'ali': tensor(11.0242), 'hassan': tensor(4.), 'mahdi': tensor(8.0371)}\n"
     ]
    }
   ],
   "source": [
    "allocations, payments = auction.run()"
   ]
  }
 ],
 "metadata": {
  "kernelspec": {
   "display_name": "auction",
   "language": "python",
   "name": "python3"
  },
  "language_info": {
   "codemirror_mode": {
    "name": "ipython",
    "version": 3
   },
   "file_extension": ".py",
   "mimetype": "text/x-python",
   "name": "python",
   "nbconvert_exporter": "python",
   "pygments_lexer": "ipython3",
   "version": "3.10.8"
  },
  "orig_nbformat": 4,
  "vscode": {
   "interpreter": {
    "hash": "909eed02064ca41586502fb390c5b7e541513ed630e029cf293fbc8142b7695c"
   }
  }
 },
 "nbformat": 4,
 "nbformat_minor": 2
}
