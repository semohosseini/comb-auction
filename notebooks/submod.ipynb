{
 "cells": [
  {
   "cell_type": "code",
   "execution_count": 1,
   "metadata": {},
   "outputs": [],
   "source": [
    "import os\n",
    "os.environ[\"CUDA_VISIBLE_DEVICES\"]=\"1\""
   ]
  },
  {
   "cell_type": "code",
   "execution_count": 2,
   "metadata": {},
   "outputs": [],
   "source": [
    "import sys\n",
    "sys.path.append('/home/mahdi_mousavi/comb-auction')"
   ]
  },
  {
   "cell_type": "code",
   "execution_count": 3,
   "metadata": {},
   "outputs": [],
   "source": [
    "import torch\n",
    "import torch.nn as nn\n",
    "import logging\n",
    "\n",
    "from comblearn.env import CombinatorialAuction\n",
    "\n",
    "logging.basicConfig(level=20)"
   ]
  },
  {
   "cell_type": "code",
   "execution_count": 4,
   "metadata": {},
   "outputs": [],
   "source": [
    "import yaml \n",
    "\n",
    "with open(\"/home/mahdi_mousavi/comb-auction/notebooks/config_submod_mini.yaml\") as fp:\n",
    "        cfg = yaml.load(fp, Loader=yaml.FullLoader)"
   ]
  },
  {
   "cell_type": "code",
   "execution_count": 5,
   "metadata": {},
   "outputs": [],
   "source": [
    "device = \"cuda\"\n",
    "\n",
    "def social_welfare(ws, allocation):\n",
    "    return torch.sum(torch.tensor([w(alloc) for w, alloc in zip(ws, allocation)]).to(device))"
   ]
  },
  {
   "cell_type": "code",
   "execution_count": 6,
   "metadata": {},
   "outputs": [
    {
     "name": "stdout",
     "output_type": "stream",
     "text": [
      "social welfare is: 73.0, iteration is: 1000\n",
      "social welfare is: 96.0, iteration is: 2000\n",
      "social welfare is: 97.0, iteration is: 3000\n",
      "social welfare is: 87.0, iteration is: 4000\n",
      "social welfare is: 110.0, iteration is: 5000\n",
      "social welfare is: 89.0, iteration is: 6000\n",
      "[tensor([0., 1., 0., 0., 0., 0., 1., 1.], device='cuda:0'), tensor([0., 0., 0., 1., 1., 1., 0., 0.], device='cuda:0'), tensor([1., 0., 1., 0., 0., 0., 0., 0.], device='cuda:0')]\n",
      "Brute Force Search: done.\n",
      "Optimal Social Welfare: 117.0\n"
     ]
    }
   ],
   "source": [
    "auction = CombinatorialAuction(cfg['auction'])"
   ]
  },
  {
   "cell_type": "code",
   "execution_count": 7,
   "metadata": {},
   "outputs": [
    {
     "name": "stderr",
     "output_type": "stream",
     "text": [
      "INFO:root:Final allocation calculation...\n",
      "/usr/lib/python3/dist-packages/torch/nn/modules/loss.py:536: UserWarning: Using a target size (torch.Size([1])) that is different to the input size (torch.Size([500, 1])). This will likely lead to incorrect results due to broadcasting. Please ensure they have the same size.\n",
      "  return F.mse_loss(input, target, reduction=self.reduction)\n",
      "INFO:root:Bidder ali, loss: 0.0\n",
      "INFO:root:Bidder hassan, loss: 1.5079507331402023e-14\n",
      "INFO:root:Bidder mahdi, loss: 0.0\n",
      "INFO:root:t: 0.2500000000000001/1\n",
      "INFO:root:t: 0.5000000000000003/1\n",
      "INFO:root:t: 0.7500000000000006/1\n",
      "INFO:root:t: 1.0000000000000007/1\n",
      "INFO:root:t: 0.2500000000000001/1\n",
      "INFO:root:t: 0.5000000000000003/1\n",
      "INFO:root:t: 0.7500000000000006/1\n",
      "INFO:root:t: 1.0000000000000007/1\n",
      "INFO:root:Payments: {'ali': tensor(5.1331), 'hassan': tensor(0.), 'mahdi': tensor(19.5805)}\n"
     ]
    }
   ],
   "source": [
    "#allocations, payments = auction.run()\n",
    "allocation, social_welfare = auction.run()"
   ]
  },
  {
   "cell_type": "code",
   "execution_count": 8,
   "metadata": {},
   "outputs": [
    {
     "data": {
      "text/plain": [
       "tensor([50.], device='cuda:0', grad_fn=<AddBackward0>)"
      ]
     },
     "execution_count": 8,
     "metadata": {},
     "output_type": "execute_result"
    }
   ],
   "source": [
    "social_welfare"
   ]
  },
  {
   "cell_type": "code",
   "execution_count": 9,
   "metadata": {},
   "outputs": [
    {
     "data": {
      "text/plain": [
       "{'ali': tensor([0., 0., 0., 0., 0., 0., 0., 0.], device='cuda:0'),\n",
       " 'hassan': tensor([1., 1., 1., 1., 1., 1., 1., 1.], device='cuda:0'),\n",
       " 'mahdi': tensor([0., 0., 0., 0., 0., 0., 0., 0.], device='cuda:0')}"
      ]
     },
     "execution_count": 9,
     "metadata": {},
     "output_type": "execute_result"
    }
   ],
   "source": [
    "allocation"
   ]
  },
  {
   "cell_type": "markdown",
   "metadata": {},
   "source": [
    "[tensor([0., 0., 1., 1., 0., 1., 1., 1., 0., 0.], device='cuda:0'), tensor([1., 1., 0., 0., 0., 0., 0., 0., 1., 0.], device='cuda:0'), tensor([0., 0., 0., 0., 1., 0., 0., 0., 0., 1.], device='cuda:0')]"
   ]
  },
  {
   "cell_type": "code",
   "execution_count": null,
   "metadata": {},
   "outputs": [],
   "source": [
    "a = torch.tensor([0., 0., 0., 1., 0., 0., 0., 0., 0., 0.], device='cuda:0')\n",
    "b = torch.tensor([0., 1., 0., 0., 0., 1., 0., 1., 0., 1.], device='cuda:0')\n",
    "c = torch.tensor([1., 0., 1., 0., 1., 0., 1., 0., 1., 0.], device='cuda:0')"
   ]
  },
  {
   "cell_type": "code",
   "execution_count": null,
   "metadata": {},
   "outputs": [],
   "source": [
    "auction.bidders[0](a) + auction.bidders[1](b) + auction.bidders[2](c)"
   ]
  },
  {
   "cell_type": "code",
   "execution_count": null,
   "metadata": {},
   "outputs": [],
   "source": [
    "surplus = 0\n",
    "for i in range(len(auction.bidders)):\n",
    "  surplus += auction.bidders[i](allocations[auction.bidders[i].name]).item()"
   ]
  },
  {
   "cell_type": "code",
   "execution_count": 7,
   "metadata": {},
   "outputs": [],
   "source": [
    "auction.allocation_config['scheme'] = 'GradientAscent'\n",
    "auction.allocation_config['optimizer'] = 'comblearn.optim.GradientAscentOptimizer'\n",
    "auction.allocation_config['learning-rate'] = 0.0001\n",
    "auction.allocation_config['batch-size'] = 100\n",
    "auction.allocation_config['eps'] = 0.001"
   ]
  },
  {
   "cell_type": "code",
   "execution_count": 8,
   "metadata": {},
   "outputs": [
    {
     "name": "stderr",
     "output_type": "stream",
     "text": [
      "INFO:root:Final allocation calculation...\n",
      "/home/mohammad_hosseini/anaconda3/envs/auction/lib/python3.10/site-packages/torch/nn/modules/loss.py:536: UserWarning: Using a target size (torch.Size([50])) that is different to the input size (torch.Size([50, 1])). This will likely lead to incorrect results due to broadcasting. Please ensure they have the same size.\n",
      "  return F.mse_loss(input, target, reduction=self.reduction)\n",
      "INFO:root:Bidder ali, loss: 272.4798278808594\n",
      "INFO:root:Bidder hassan, loss: 454.2255859375\n",
      "INFO:root:Bidder mahdi, loss: 531.08837890625\n",
      "INFO:root:Step 0/640000\n",
      "INFO:root:Output: 0.0\n"
     ]
    },
    {
     "name": "stdout",
     "output_type": "stream",
     "text": [
      "DSFValueFunction(\n",
      "  (dsf): DSF(\n",
      "    (layers): ParameterList(\n",
      "        (0): Object of type: SCMM\n",
      "        (1): Object of type: SCMM\n",
      "      (0): SCMM(\n",
      "        (linear): PosLinear()\n",
      "        (activation): MiLU()\n",
      "      )\n",
      "      (1): SCMM(\n",
      "        (linear): PosLinear()\n",
      "        (activation): MiLU()\n",
      "      )\n",
      "    )\n",
      "  )\n",
      ")\n",
      "Final Distribution: tensor([[1., 0., 0.],\n",
      "        [1., 0., 0.],\n",
      "        [0., 0., 1.],\n",
      "        [1., 0., 0.],\n",
      "        [1., 0., 0.],\n",
      "        [1., 0., 0.],\n",
      "        [1., 0., 0.],\n",
      "        [1., 0., 0.]], device='cuda:0')\n"
     ]
    }
   ],
   "source": [
    "allocations, social_welfare = auction.run()"
   ]
  },
  {
   "cell_type": "code",
   "execution_count": 9,
   "metadata": {},
   "outputs": [
    {
     "data": {
      "text/plain": [
       "tensor(74., device='cuda:0')"
      ]
     },
     "execution_count": 9,
     "metadata": {},
     "output_type": "execute_result"
    }
   ],
   "source": [
    "social_welfare"
   ]
  },
  {
   "cell_type": "code",
   "execution_count": 14,
   "metadata": {},
   "outputs": [
    {
     "data": {
      "text/plain": [
       "{'ali': tensor([0., 0., 0., 0., 0., 0., 1., 1.], device='cuda:0'),\n",
       " 'hassan': tensor([1., 0., 1., 1., 1., 0., 0., 0.], device='cuda:0'),\n",
       " 'mahdi': tensor([0., 1., 0., 0., 0., 1., 0., 0.], device='cuda:0')}"
      ]
     },
     "execution_count": 14,
     "metadata": {},
     "output_type": "execute_result"
    }
   ],
   "source": [
    "allocations"
   ]
  },
  {
   "cell_type": "code",
   "execution_count": null,
   "metadata": {},
   "outputs": [],
   "source": [
    "allocations['ali'] = torch.tensor([0., 0., 0., 1., 0., 0., 0., 0., 0., 0., 0., 0.], device='cuda:0')\n",
    "allocations['hassan'] = torch.tensor([1., 0., 0., 0., 0., 1., 0., 1., 0., 1., 0., 0.], device='cuda:0')\n",
    "allocations['mahdi'] = torch.tensor([0., 1., 1., 0., 1., 0., 1., 0., 1., 0., 1., 1.], device='cuda:0')"
   ]
  },
  {
   "cell_type": "code",
   "execution_count": null,
   "metadata": {},
   "outputs": [],
   "source": [
    "surplus = 0\n",
    "for i in range(len(auction.bidders)):\n",
    "  surplus += auction.bidders[i](allocations[auction.bidders[i].name]).item()"
   ]
  },
  {
   "cell_type": "code",
   "execution_count": null,
   "metadata": {},
   "outputs": [],
   "source": [
    "surplus"
   ]
  },
  {
   "cell_type": "code",
   "execution_count": 15,
   "metadata": {},
   "outputs": [
    {
     "data": {
      "text/plain": [
       "tensor([50.], device='cuda:0', requires_grad=True)"
      ]
     },
     "execution_count": 15,
     "metadata": {},
     "output_type": "execute_result"
    }
   ],
   "source": [
    "auction.bidders[0](torch.tensor([1., 1., 1., 1., 1., 1., 1., 1.], device='cuda:0'))"
   ]
  },
  {
   "cell_type": "code",
   "execution_count": 16,
   "metadata": {},
   "outputs": [
    {
     "data": {
      "text/plain": [
       "tensor([76.], device='cuda:0', grad_fn=<AddBackward0>)"
      ]
     },
     "execution_count": 16,
     "metadata": {},
     "output_type": "execute_result"
    }
   ],
   "source": [
    "auction.bidders[0](torch.tensor([0., 0., 0., 0., 0., 0., 1., 0.,], device='cuda:0')) + auction.bidders[0](torch.tensor([1., 1., 1., 1., 1., 1., 0., 1.], device='cuda:0'))"
   ]
  },
  {
   "cell_type": "code",
   "execution_count": 17,
   "metadata": {},
   "outputs": [
    {
     "data": {
      "text/plain": [
       "tensor([37.], device='cuda:0', requires_grad=True)"
      ]
     },
     "execution_count": 17,
     "metadata": {},
     "output_type": "execute_result"
    }
   ],
   "source": [
    "auction.bidders[0](torch.tensor([0, 0, 0., 0., 0., 1., 0., 0.], device='cuda:0'))"
   ]
  },
  {
   "cell_type": "code",
   "execution_count": null,
   "metadata": {},
   "outputs": [],
   "source": []
  },
  {
   "cell_type": "code",
   "execution_count": null,
   "metadata": {},
   "outputs": [],
   "source": [
    "import numpy as np"
   ]
  },
  {
   "cell_type": "code",
   "execution_count": null,
   "metadata": {},
   "outputs": [],
   "source": [
    "class Branch_and_Bound():\n",
    "    def __init__(self, dsfs, num_itmes, num_bidders):\n",
    "        self.ws = dsfs\n",
    "        self.m = num_itmes\n",
    "        self.n = num_bidders\n",
    "        self.best = -1000\n",
    "        self.device = 'cuda:0'\n",
    "\n",
    "    def run(self, variable_items_indexes=[], fixed_items={}):\n",
    "        if len(fixed_items) == 0:\n",
    "            variable_items_indexes = list(range(self.m))\n",
    "        temp = self.gradient_ascent(fixed_items, variable_items_indexes)\n",
    "        if temp > self.best:\n",
    "            self.best = temp\n",
    "        index = variable_items_indexes.copy()\n",
    "        for item in index:\n",
    "            variable_items_indexes.remove(item)\n",
    "            for bidder in range(self.n):\n",
    "                fixed_items[item] = bidder\n",
    "                overestimate = self.gradient_ascent(fixed_items, variable_items_indexes)\n",
    "                if overestimate <= self.best:\n",
    "                    del(fixed_items[item])\n",
    "                else:\n",
    "                    self.run(variable_items_indexes, fixed_items)\n",
    "            \n",
    "            variable_items_indexes.append(item)\n",
    "            variable_items_indexes.sort()\n",
    "        return self.best\n",
    "\n",
    "\n",
    "\n",
    "    \n",
    "    def gradient_ascent(self, fixed_items, variable_items_indexes):\n",
    "        temp = np.zeros((self.m, self.n))\n",
    "        temp = self.projection_simplex_sort_2d(temp.T, fixed_items).T\n",
    "        y = torch.from_numpy(temp).float().to('cuda:0')\n",
    "        return self.optimize(variable_items_indexes, fixed_items, y)\n",
    "\n",
    "\n",
    "    def optimize(self, variable_items_indexes, fixed_items, y, lr=2e-3, bs=10, num_iterations=100):\n",
    "        y.requires_grad = True\n",
    "        for i in range(num_iterations):\n",
    "            s = torch.zeros(1).float().to(self.device)\n",
    "            for b in range(self.n):\n",
    "                s += self.ws[b](y[:,b])\n",
    "            y.retain_grad()\n",
    "            s.backward()\n",
    "            with torch.no_grad():\n",
    "                temp = y\n",
    "                temp[variable_items_indexes, :] = y[variable_items_indexes, :] + lr*y.grad[variable_items_indexes, :]\n",
    "                temp = temp.detach().cpu().numpy()\n",
    "                temp = (self.projection_simplex_sort_2d(temp.T, fixed_items)).T\n",
    "                y = None\n",
    "                y = torch.from_numpy(temp).float().to('cuda:0')\n",
    "            y.requires_grad = True\n",
    "            for b in range(self.n):\n",
    "                self.ws[b].zero_grad()\n",
    "        max = 0\n",
    "        for _ in range(10):\n",
    "            allocation = self.generate_allocation(y)\n",
    "            s = 0\n",
    "            for b in range(self.n):\n",
    "                s += self.ws[b](allocation[b]).item()\n",
    "            if s > max:\n",
    "                max = s\n",
    "        for b in range(self.n):\n",
    "            self.ws[b].zero_grad()\n",
    "        return max\n",
    "\n",
    "    def generate_allocation(self, y):\n",
    "        output = torch.tensor([torch.multinomial(y[j], 1) for j in range(self.m)]).to(self.device)\n",
    "        return [(output == i).float().to(self.device) for i in range(self.n)]\n",
    "\n",
    "    def projection_simplex_sort_2d(self, v, fixed_items, z=1):\n",
    "        \"\"\"v array of shape (n_features, n_samples).\"\"\"\n",
    "        p, n = v.shape\n",
    "        u = np.sort(v, axis=0)[::-1, ...]\n",
    "        pi = np.cumsum(u, axis=0) - z\n",
    "        ind = (np.arange(p) + 1).reshape(-1, 1)\n",
    "        mask = (u - pi / ind) > 0\n",
    "        rho = p - 1 - np.argmax(mask[::-1, ...], axis=0)\n",
    "        theta = pi[tuple([rho, np.arange(n)])] / (rho + 1)\n",
    "        w = np.maximum(v - theta, 0)\n",
    "\n",
    "        for k, v in fixed_items.items():\n",
    "            w[:, k] = 0\n",
    "            w[v, k] = 1\n",
    "        return w"
   ]
  },
  {
   "cell_type": "code",
   "execution_count": null,
   "metadata": {},
   "outputs": [],
   "source": [
    "dsfs = []\n",
    "for bidder in auction.bidders:\n",
    "    dsfs.append(bidder.vf)"
   ]
  },
  {
   "cell_type": "code",
   "execution_count": null,
   "metadata": {},
   "outputs": [],
   "source": [
    "optimal = Branch_and_Bound(dsfs, 12, 3)"
   ]
  },
  {
   "cell_type": "code",
   "execution_count": null,
   "metadata": {},
   "outputs": [],
   "source": [
    "socialwelfare = optimal.run()\n",
    "socialwelfare"
   ]
  },
  {
   "cell_type": "markdown",
   "metadata": {},
   "source": [
    "## PYSATS"
   ]
  }
 ],
 "metadata": {
  "kernelspec": {
   "display_name": "auction",
   "language": "python",
   "name": "python3"
  },
  "language_info": {
   "codemirror_mode": {
    "name": "ipython",
    "version": 3
   },
   "file_extension": ".py",
   "mimetype": "text/x-python",
   "name": "python",
   "nbconvert_exporter": "python",
   "pygments_lexer": "ipython3",
   "version": "3.10.8"
  },
  "orig_nbformat": 4,
  "vscode": {
   "interpreter": {
    "hash": "909eed02064ca41586502fb390c5b7e541513ed630e029cf293fbc8142b7695c"
   }
  }
 },
 "nbformat": 4,
 "nbformat_minor": 2
}
