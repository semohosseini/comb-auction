{
 "cells": [
  {
   "cell_type": "code",
   "execution_count": 1,
   "metadata": {},
   "outputs": [],
   "source": [
    "import os\n",
    "os.environ[\"CUDA_VISIBLE_DEVICES\"]=\"1\""
   ]
  },
  {
   "cell_type": "code",
   "execution_count": 2,
   "metadata": {},
   "outputs": [],
   "source": [
    "import sys\n",
    "sys.path.append('/home/mahdi_mousavi/comb-auction')"
   ]
  },
  {
   "cell_type": "code",
   "execution_count": 3,
   "metadata": {},
   "outputs": [],
   "source": [
    "import torch\n",
    "import torch.nn as nn\n",
    "import logging\n",
    "\n",
    "from comblearn.env import CombinatorialAuction\n",
    "\n",
    "logging.basicConfig(level=20)"
   ]
  },
  {
   "cell_type": "code",
   "execution_count": 4,
   "metadata": {},
   "outputs": [],
   "source": [
    "import yaml \n",
    "\n",
    "with open(\"/home/mahdi_mousavi/comb-auction/notebooks/config_submod_mini.yaml\") as fp:\n",
    "        cfg = yaml.load(fp, Loader=yaml.FullLoader)"
   ]
  },
  {
   "cell_type": "code",
   "execution_count": 5,
   "metadata": {},
   "outputs": [],
   "source": [
    "device = \"cuda\"\n",
    "\n",
    "def social_welfare(ws, allocation):\n",
    "    return torch.sum(torch.tensor([w(alloc) for w, alloc in zip(ws, allocation)]).to(device))"
   ]
  },
  {
   "cell_type": "code",
   "execution_count": 6,
   "metadata": {},
   "outputs": [
    {
     "name": "stdout",
     "output_type": "stream",
     "text": [
      "social welfare is: 19.60138702392578, iteration is: 1000\n",
      "social welfare is: 17.545528411865234, iteration is: 2000\n",
      "social welfare is: 20.003246307373047, iteration is: 3000\n",
      "social welfare is: 20.431018829345703, iteration is: 4000\n",
      "social welfare is: 20.4024658203125, iteration is: 5000\n",
      "social welfare is: 18.82054901123047, iteration is: 6000\n",
      "[tensor([0., 0., 1., 1., 0., 0., 0., 0.], device='cuda:0'), tensor([1., 0., 0., 0., 1., 1., 0., 0.], device='cuda:0'), tensor([0., 1., 0., 0., 0., 0., 1., 1.], device='cuda:0')]\n",
      "Brute Force Search: done.\n",
      "Optimal Social Welfare: 32.306217193603516\n"
     ]
    }
   ],
   "source": [
    "auction = CombinatorialAuction(cfg['auction'])"
   ]
  },
  {
   "cell_type": "code",
   "execution_count": 7,
   "metadata": {},
   "outputs": [
    {
     "name": "stderr",
     "output_type": "stream",
     "text": [
      "INFO:root:Final allocation calculation...\n",
      "INFO:root:Bidder ali, loss: 0.005849017295986414\n",
      "INFO:root:Bidder hassan, loss: 15.2977294921875\n",
      "INFO:root:Bidder mahdi, loss: 12.687034606933594\n",
      "INFO:root:t: 0.2500000000000001/1\n",
      "INFO:root:t: 0.5000000000000003/1\n",
      "INFO:root:t: 0.7500000000000006/1\n",
      "INFO:root:t: 1.0000000000000007/1\n"
     ]
    }
   ],
   "source": [
    "#allocations, payments = auction.run()\n",
    "allocation, social_welfare = auction.run()"
   ]
  },
  {
   "cell_type": "code",
   "execution_count": 10,
   "metadata": {},
   "outputs": [
    {
     "data": {
      "text/plain": [
       "tensor([23.7690], device='cuda:0', grad_fn=<AddBackward0>)"
      ]
     },
     "execution_count": 10,
     "metadata": {},
     "output_type": "execute_result"
    }
   ],
   "source": [
    "social_welfare"
   ]
  },
  {
   "cell_type": "code",
   "execution_count": 9,
   "metadata": {},
   "outputs": [
    {
     "data": {
      "text/plain": [
       "{'ali': tensor([0., 0., 1., 1., 0., 1., 0., 0.], device='cuda:0'),\n",
       " 'hassan': tensor([1., 0., 0., 0., 0., 0., 1., 1.], device='cuda:0'),\n",
       " 'mahdi': tensor([0., 1., 0., 0., 1., 0., 0., 0.], device='cuda:0')}"
      ]
     },
     "execution_count": 9,
     "metadata": {},
     "output_type": "execute_result"
    }
   ],
   "source": [
    "allocation"
   ]
  },
  {
   "cell_type": "code",
   "execution_count": null,
   "metadata": {},
   "outputs": [],
   "source": [
    "a = torch.tensor([0., 0., 0., 1., 0., 0., 0., 0., 0., 0.], device='cuda:0')\n",
    "b = torch.tensor([0., 1., 0., 0., 0., 1., 0., 1., 0., 1.], device='cuda:0')\n",
    "c = torch.tensor([1., 0., 1., 0., 1., 0., 1., 0., 1., 0.], device='cuda:0')"
   ]
  },
  {
   "cell_type": "code",
   "execution_count": null,
   "metadata": {},
   "outputs": [],
   "source": [
    "auction.bidders[0](a) + auction.bidders[1](b) + auction.bidders[2](c)"
   ]
  },
  {
   "cell_type": "code",
   "execution_count": null,
   "metadata": {},
   "outputs": [],
   "source": [
    "surplus = 0\n",
    "for i in range(len(auction.bidders)):\n",
    "  surplus += auction.bidders[i](allocations[auction.bidders[i].name]).item()"
   ]
  },
  {
   "cell_type": "code",
   "execution_count": 7,
   "metadata": {},
   "outputs": [],
   "source": [
    "auction.allocation_config['scheme'] = 'GradientAscent'\n",
    "auction.allocation_config['optimizer'] = 'comblearn.optim.GradientAscentOptimizer'\n",
    "auction.allocation_config['learning-rate'] = 0.0001\n",
    "auction.allocation_config['batch-size'] = 100\n",
    "auction.allocation_config['eps'] = 0.001"
   ]
  },
  {
   "cell_type": "code",
   "execution_count": 8,
   "metadata": {},
   "outputs": [
    {
     "name": "stderr",
     "output_type": "stream",
     "text": [
      "INFO:root:Final allocation calculation...\n"
     ]
    },
    {
     "name": "stderr",
     "output_type": "stream",
     "text": [
      "INFO:root:Bidder ali, loss: 5.114180088043213\n",
      "INFO:root:Bidder hassan, loss: 3.2833518981933594\n",
      "INFO:root:Bidder mahdi, loss: 2.391392469406128\n",
      "INFO:root:Step 0/640000\n",
      "INFO:root:Output: 0.0\n"
     ]
    },
    {
     "name": "stdout",
     "output_type": "stream",
     "text": [
      "DSFValueFunction(\n",
      "  (dsf): DSF(\n",
      "    (layers): ParameterList(\n",
      "        (0): Object of type: SCMM\n",
      "        (1): Object of type: SCMM\n",
      "      (0): SCMM(\n",
      "        (linear): PosLinear()\n",
      "        (activation): MiLU()\n",
      "      )\n",
      "      (1): SCMM(\n",
      "        (linear): PosLinear()\n",
      "        (activation): MiLU()\n",
      "      )\n",
      "    )\n",
      "  )\n",
      ")\n"
     ]
    },
    {
     "name": "stderr",
     "output_type": "stream",
     "text": [
      "INFO:root:Step 100/640000\n",
      "INFO:root:Output: 22.07406234741211\n",
      "INFO:root:Step 200/640000\n",
      "INFO:root:Output: 23.665428161621094\n",
      "INFO:root:Step 300/640000\n",
      "INFO:root:Output: 23.722627639770508\n",
      "INFO:root:Step 400/640000\n",
      "INFO:root:Output: 23.722627639770508\n",
      "INFO:root:Step 500/640000\n",
      "INFO:root:Output: 23.722627639770508\n",
      "INFO:root:Step 600/640000\n",
      "INFO:root:Output: 23.722627639770508\n",
      "INFO:root:Step 700/640000\n",
      "INFO:root:Output: 23.722627639770508\n",
      "INFO:root:Step 800/640000\n",
      "INFO:root:Output: 23.722627639770508\n",
      "INFO:root:Step 900/640000\n",
      "INFO:root:Output: 23.722627639770508\n",
      "INFO:root:Step 1000/640000\n",
      "INFO:root:Output: 23.722627639770508\n",
      "INFO:root:Step 1100/640000\n",
      "INFO:root:Output: 23.722627639770508\n",
      "INFO:root:Step 1200/640000\n",
      "INFO:root:Output: 23.722627639770508\n",
      "INFO:root:Step 1300/640000\n",
      "INFO:root:Output: 23.722627639770508\n",
      "INFO:root:Step 1400/640000\n",
      "INFO:root:Output: 23.722627639770508\n",
      "INFO:root:Step 1500/640000\n",
      "INFO:root:Output: 23.722627639770508\n",
      "INFO:root:Step 1600/640000\n",
      "INFO:root:Output: 23.722627639770508\n",
      "INFO:root:Step 1700/640000\n",
      "INFO:root:Output: 23.722627639770508\n",
      "INFO:root:Step 1800/640000\n",
      "INFO:root:Output: 23.722627639770508\n",
      "INFO:root:Step 1900/640000\n",
      "INFO:root:Output: 23.722627639770508\n",
      "INFO:root:Step 2000/640000\n",
      "INFO:root:Output: 23.722627639770508\n",
      "INFO:root:Step 2100/640000\n",
      "INFO:root:Output: 23.722627639770508\n",
      "INFO:root:Step 2200/640000\n",
      "INFO:root:Output: 23.722627639770508\n",
      "INFO:root:Step 2300/640000\n",
      "INFO:root:Output: 23.722627639770508\n",
      "INFO:root:Step 2400/640000\n",
      "INFO:root:Output: 23.722627639770508\n",
      "INFO:root:Step 2500/640000\n",
      "INFO:root:Output: 23.722627639770508\n",
      "INFO:root:Step 2600/640000\n",
      "INFO:root:Output: 23.722627639770508\n",
      "INFO:root:Step 2700/640000\n",
      "INFO:root:Output: 23.722627639770508\n",
      "INFO:root:Step 2800/640000\n",
      "INFO:root:Output: 23.722627639770508\n",
      "INFO:root:Step 2900/640000\n",
      "INFO:root:Output: 23.722627639770508\n",
      "INFO:root:Step 3000/640000\n",
      "INFO:root:Output: 23.722627639770508\n",
      "INFO:root:Step 3100/640000\n",
      "INFO:root:Output: 23.722627639770508\n",
      "INFO:root:Step 3200/640000\n",
      "INFO:root:Output: 23.722627639770508\n",
      "INFO:root:Step 3300/640000\n",
      "INFO:root:Output: 23.722627639770508\n",
      "INFO:root:Step 3400/640000\n",
      "INFO:root:Output: 23.722627639770508\n",
      "INFO:root:Step 3500/640000\n",
      "INFO:root:Output: 23.722627639770508\n",
      "INFO:root:Step 3600/640000\n",
      "INFO:root:Output: 23.722627639770508\n",
      "INFO:root:Step 3700/640000\n",
      "INFO:root:Output: 23.722627639770508\n"
     ]
    },
    {
     "ename": "KeyboardInterrupt",
     "evalue": "",
     "output_type": "error",
     "traceback": [
      "\u001b[0;31m---------------------------------------------------------------------------\u001b[0m",
      "\u001b[0;31mKeyboardInterrupt\u001b[0m                         Traceback (most recent call last)",
      "\u001b[1;32m/home/mahdi_mousavi/comb-auction/notebooks/submod.ipynb Cell 14\u001b[0m line \u001b[0;36m1\n\u001b[0;32m----> <a href='vscode-notebook-cell://ssh-remote%2Bvps1.inl-lab.net/home/mahdi_mousavi/comb-auction/notebooks/submod.ipynb#X20sdnNjb2RlLXJlbW90ZQ%3D%3D?line=0'>1</a>\u001b[0m allocations, social_welfare \u001b[39m=\u001b[39m auction\u001b[39m.\u001b[39;49mrun()\n",
      "File \u001b[0;32m~/comb-auction/comblearn/env/comb/auction.py:92\u001b[0m, in \u001b[0;36mCombinatorialAuction.run\u001b[0;34m(self, writer)\u001b[0m\n\u001b[1;32m     89\u001b[0m s \u001b[39m=\u001b[39m \u001b[39m0\u001b[39m\n\u001b[1;32m     90\u001b[0m \u001b[39m#output = torch.tensor([torch.multinomial(self.y[j], 1) for j in range(len(self.items))]).to(self.device)\u001b[39;00m\n\u001b[1;32m     91\u001b[0m \u001b[39m#allocation = [(output == j).float().to(self.device) for j in range(3)]\u001b[39;00m\n\u001b[0;32m---> 92\u001b[0m allocation, h \u001b[39m=\u001b[39m \u001b[39mself\u001b[39;49m\u001b[39m.\u001b[39;49mallocation_handler\u001b[39m.\u001b[39;49mallocate()\n\u001b[1;32m     93\u001b[0m \u001b[39mfor\u001b[39;00m b \u001b[39min\u001b[39;00m \u001b[39mself\u001b[39m\u001b[39m.\u001b[39mbidders:\n\u001b[1;32m     94\u001b[0m     s \u001b[39m+\u001b[39m\u001b[39m=\u001b[39m b(allocation[b\u001b[39m.\u001b[39mname])\n",
      "File \u001b[0;32m~/comb-auction/comblearn/env/comb/allocate.py:33\u001b[0m, in \u001b[0;36mAllocationHandler.allocate\u001b[0;34m(self, except_key)\u001b[0m\n\u001b[1;32m     31\u001b[0m     \u001b[39mprint\u001b[39m(ws[\u001b[39m0\u001b[39m])\n\u001b[1;32m     32\u001b[0m     optimizer \u001b[39m=\u001b[39m opt_cls(m, n, ws, eps\u001b[39m=\u001b[39m\u001b[39mself\u001b[39m\u001b[39m.\u001b[39mconfig[\u001b[39m'\u001b[39m\u001b[39meps\u001b[39m\u001b[39m'\u001b[39m])\n\u001b[0;32m---> 33\u001b[0m     optimizer\u001b[39m.\u001b[39;49moptimize(lr\u001b[39m=\u001b[39;49m\u001b[39mself\u001b[39;49m\u001b[39m.\u001b[39;49mconfig[\u001b[39m'\u001b[39;49m\u001b[39mlearning-rate\u001b[39;49m\u001b[39m'\u001b[39;49m], bs\u001b[39m=\u001b[39;49m\u001b[39mself\u001b[39;49m\u001b[39m.\u001b[39;49mconfig[\u001b[39m'\u001b[39;49m\u001b[39mbatch-size\u001b[39;49m\u001b[39m'\u001b[39;49m])\n\u001b[1;32m     34\u001b[0m \u001b[39melse\u001b[39;00m:\n\u001b[1;32m     35\u001b[0m     \u001b[39mraise\u001b[39;00m \u001b[39mValueError\u001b[39;00m(\u001b[39mf\u001b[39m\u001b[39m\"\u001b[39m\u001b[39mScheme \u001b[39m\u001b[39m{\u001b[39;00m\u001b[39mself\u001b[39m\u001b[39m.\u001b[39mconfig[\u001b[39m'\u001b[39m\u001b[39mscheme\u001b[39m\u001b[39m'\u001b[39m]\u001b[39m}\u001b[39;00m\u001b[39m for allocation not supported.\u001b[39m\u001b[39m\"\u001b[39m)\n",
      "File \u001b[0;32m~/comb-auction/comblearn/optim/allocation.py:133\u001b[0m, in \u001b[0;36mGradientAscentOptimizer.optimize\u001b[0;34m(self, lr, bs)\u001b[0m\n\u001b[1;32m    131\u001b[0m \u001b[39mdef\u001b[39;00m \u001b[39moptimize\u001b[39m(\u001b[39mself\u001b[39m, lr\u001b[39m=\u001b[39m\u001b[39m2e-4\u001b[39m, bs\u001b[39m=\u001b[39m\u001b[39m10\u001b[39m):\n\u001b[1;32m    132\u001b[0m     T \u001b[39m=\u001b[39m \u001b[39mint\u001b[39m((\u001b[39mself\u001b[39m\u001b[39m.\u001b[39mm \u001b[39m/\u001b[39m \u001b[39mself\u001b[39m\u001b[39m.\u001b[39meps) \u001b[39m*\u001b[39m\u001b[39m*\u001b[39m \u001b[39m2\u001b[39m)\n\u001b[0;32m--> 133\u001b[0m     \u001b[39mself\u001b[39m\u001b[39m.\u001b[39my \u001b[39m=\u001b[39m \u001b[39mself\u001b[39;49m\u001b[39m.\u001b[39;49m_maximize_dsf(lr, T, bs)\n",
      "File \u001b[0;32m~/comb-auction/comblearn/optim/allocation.py:123\u001b[0m, in \u001b[0;36mGradientAscentOptimizer._maximize_dsf\u001b[0;34m(self, lr, T, bs)\u001b[0m\n\u001b[1;32m    116\u001b[0m     logging\u001b[39m.\u001b[39minfo(\u001b[39mf\u001b[39m\u001b[39m\"\u001b[39m\u001b[39mOutput: \u001b[39m\u001b[39m{\u001b[39;00mpred\u001b[39m.\u001b[39mitem()\u001b[39m}\u001b[39;00m\u001b[39m\"\u001b[39m)\n\u001b[1;32m    118\u001b[0m \u001b[39m# if pred == last_pred:\u001b[39;00m\n\u001b[1;32m    119\u001b[0m \u001b[39m#     break\u001b[39;00m\n\u001b[1;32m    120\u001b[0m \u001b[39m# else:\u001b[39;00m\n\u001b[1;32m    121\u001b[0m \u001b[39m#     last_pred = pred\u001b[39;00m\n\u001b[0;32m--> 123\u001b[0m pred\u001b[39m.\u001b[39;49mbackward()\n\u001b[1;32m    124\u001b[0m g \u001b[39m=\u001b[39m \u001b[39mself\u001b[39m\u001b[39m.\u001b[39mwrapper\u001b[39m.\u001b[39mweights\u001b[39m.\u001b[39mgrad\n\u001b[1;32m    125\u001b[0m \u001b[39mwith\u001b[39;00m torch\u001b[39m.\u001b[39mno_grad():\n",
      "File \u001b[0;32m~/miniconda3/envs/auction/lib/python3.11/site-packages/torch/_tensor.py:487\u001b[0m, in \u001b[0;36mTensor.backward\u001b[0;34m(self, gradient, retain_graph, create_graph, inputs)\u001b[0m\n\u001b[1;32m    477\u001b[0m \u001b[39mif\u001b[39;00m has_torch_function_unary(\u001b[39mself\u001b[39m):\n\u001b[1;32m    478\u001b[0m     \u001b[39mreturn\u001b[39;00m handle_torch_function(\n\u001b[1;32m    479\u001b[0m         Tensor\u001b[39m.\u001b[39mbackward,\n\u001b[1;32m    480\u001b[0m         (\u001b[39mself\u001b[39m,),\n\u001b[0;32m   (...)\u001b[0m\n\u001b[1;32m    485\u001b[0m         inputs\u001b[39m=\u001b[39minputs,\n\u001b[1;32m    486\u001b[0m     )\n\u001b[0;32m--> 487\u001b[0m torch\u001b[39m.\u001b[39;49mautograd\u001b[39m.\u001b[39;49mbackward(\n\u001b[1;32m    488\u001b[0m     \u001b[39mself\u001b[39;49m, gradient, retain_graph, create_graph, inputs\u001b[39m=\u001b[39;49minputs\n\u001b[1;32m    489\u001b[0m )\n",
      "File \u001b[0;32m~/miniconda3/envs/auction/lib/python3.11/site-packages/torch/autograd/__init__.py:200\u001b[0m, in \u001b[0;36mbackward\u001b[0;34m(tensors, grad_tensors, retain_graph, create_graph, grad_variables, inputs)\u001b[0m\n\u001b[1;32m    195\u001b[0m     retain_graph \u001b[39m=\u001b[39m create_graph\n\u001b[1;32m    197\u001b[0m \u001b[39m# The reason we repeat same the comment below is that\u001b[39;00m\n\u001b[1;32m    198\u001b[0m \u001b[39m# some Python versions print out the first line of a multi-line function\u001b[39;00m\n\u001b[1;32m    199\u001b[0m \u001b[39m# calls in the traceback and some print out the last line\u001b[39;00m\n\u001b[0;32m--> 200\u001b[0m Variable\u001b[39m.\u001b[39;49m_execution_engine\u001b[39m.\u001b[39;49mrun_backward(  \u001b[39m# Calls into the C++ engine to run the backward pass\u001b[39;49;00m\n\u001b[1;32m    201\u001b[0m     tensors, grad_tensors_, retain_graph, create_graph, inputs,\n\u001b[1;32m    202\u001b[0m     allow_unreachable\u001b[39m=\u001b[39;49m\u001b[39mTrue\u001b[39;49;00m, accumulate_grad\u001b[39m=\u001b[39;49m\u001b[39mTrue\u001b[39;49;00m)\n",
      "\u001b[0;31mKeyboardInterrupt\u001b[0m: "
     ]
    }
   ],
   "source": [
    "allocations, social_welfare = auction.run()"
   ]
  },
  {
   "cell_type": "code",
   "execution_count": 9,
   "metadata": {},
   "outputs": [
    {
     "data": {
      "text/plain": [
       "tensor([23.7690], device='cuda:0', grad_fn=<AddBackward0>)"
      ]
     },
     "execution_count": 9,
     "metadata": {},
     "output_type": "execute_result"
    }
   ],
   "source": [
    "social_welfare"
   ]
  },
  {
   "cell_type": "code",
   "execution_count": 14,
   "metadata": {},
   "outputs": [
    {
     "data": {
      "text/plain": [
       "{'ali': tensor([0., 0., 0., 0., 0., 0., 1., 1.], device='cuda:0'),\n",
       " 'hassan': tensor([1., 0., 1., 1., 1., 0., 0., 0.], device='cuda:0'),\n",
       " 'mahdi': tensor([0., 1., 0., 0., 0., 1., 0., 0.], device='cuda:0')}"
      ]
     },
     "execution_count": 14,
     "metadata": {},
     "output_type": "execute_result"
    }
   ],
   "source": [
    "allocations"
   ]
  },
  {
   "cell_type": "code",
   "execution_count": null,
   "metadata": {},
   "outputs": [],
   "source": [
    "allocations['ali'] = torch.tensor([0., 0., 0., 1., 0., 0., 0., 0., 0., 0., 0., 0.], device='cuda:0')\n",
    "allocations['hassan'] = torch.tensor([1., 0., 0., 0., 0., 1., 0., 1., 0., 1., 0., 0.], device='cuda:0')\n",
    "allocations['mahdi'] = torch.tensor([0., 1., 1., 0., 1., 0., 1., 0., 1., 0., 1., 1.], device='cuda:0')"
   ]
  },
  {
   "cell_type": "code",
   "execution_count": null,
   "metadata": {},
   "outputs": [],
   "source": [
    "surplus = 0\n",
    "for i in range(len(auction.bidders)):\n",
    "  surplus += auction.bidders[i](allocations[auction.bidders[i].name]).item()"
   ]
  },
  {
   "cell_type": "code",
   "execution_count": null,
   "metadata": {},
   "outputs": [],
   "source": [
    "surplus"
   ]
  },
  {
   "cell_type": "code",
   "execution_count": 15,
   "metadata": {},
   "outputs": [
    {
     "data": {
      "text/plain": [
       "tensor([50.], device='cuda:0', requires_grad=True)"
      ]
     },
     "execution_count": 15,
     "metadata": {},
     "output_type": "execute_result"
    }
   ],
   "source": [
    "auction.bidders[0](torch.tensor([1., 1., 1., 1., 1., 1., 1., 1.], device='cuda:0'))"
   ]
  },
  {
   "cell_type": "code",
   "execution_count": 16,
   "metadata": {},
   "outputs": [
    {
     "data": {
      "text/plain": [
       "tensor([76.], device='cuda:0', grad_fn=<AddBackward0>)"
      ]
     },
     "execution_count": 16,
     "metadata": {},
     "output_type": "execute_result"
    }
   ],
   "source": [
    "auction.bidders[0](torch.tensor([0., 0., 0., 0., 0., 0., 1., 0.,], device='cuda:0')) + auction.bidders[0](torch.tensor([1., 1., 1., 1., 1., 1., 0., 1.], device='cuda:0'))"
   ]
  },
  {
   "cell_type": "code",
   "execution_count": 17,
   "metadata": {},
   "outputs": [
    {
     "data": {
      "text/plain": [
       "tensor([37.], device='cuda:0', requires_grad=True)"
      ]
     },
     "execution_count": 17,
     "metadata": {},
     "output_type": "execute_result"
    }
   ],
   "source": [
    "auction.bidders[0](torch.tensor([0, 0, 0., 0., 0., 1., 0., 0.], device='cuda:0'))"
   ]
  },
  {
   "cell_type": "code",
   "execution_count": null,
   "metadata": {},
   "outputs": [],
   "source": []
  },
  {
   "cell_type": "code",
   "execution_count": null,
   "metadata": {},
   "outputs": [],
   "source": [
    "import numpy as np"
   ]
  },
  {
   "cell_type": "code",
   "execution_count": null,
   "metadata": {},
   "outputs": [],
   "source": [
    "class Branch_and_Bound():\n",
    "    def __init__(self, dsfs, num_itmes, num_bidders):\n",
    "        self.ws = dsfs\n",
    "        self.m = num_itmes\n",
    "        self.n = num_bidders\n",
    "        self.best = -1000\n",
    "        self.device = 'cuda:0'\n",
    "\n",
    "    def run(self, variable_items_indexes=[], fixed_items={}):\n",
    "        if len(fixed_items) == 0:\n",
    "            variable_items_indexes = list(range(self.m))\n",
    "        temp = self.gradient_ascent(fixed_items, variable_items_indexes)\n",
    "        if temp > self.best:\n",
    "            self.best = temp\n",
    "        index = variable_items_indexes.copy()\n",
    "        for item in index:\n",
    "            variable_items_indexes.remove(item)\n",
    "            for bidder in range(self.n):\n",
    "                fixed_items[item] = bidder\n",
    "                overestimate = self.gradient_ascent(fixed_items, variable_items_indexes)\n",
    "                if overestimate <= self.best:\n",
    "                    del(fixed_items[item])\n",
    "                else:\n",
    "                    self.run(variable_items_indexes, fixed_items)\n",
    "            \n",
    "            variable_items_indexes.append(item)\n",
    "            variable_items_indexes.sort()\n",
    "        return self.best\n",
    "\n",
    "\n",
    "\n",
    "    \n",
    "    def gradient_ascent(self, fixed_items, variable_items_indexes):\n",
    "        temp = np.zeros((self.m, self.n))\n",
    "        temp = self.projection_simplex_sort_2d(temp.T, fixed_items).T\n",
    "        y = torch.from_numpy(temp).float().to('cuda:0')\n",
    "        return self.optimize(variable_items_indexes, fixed_items, y)\n",
    "\n",
    "\n",
    "    def optimize(self, variable_items_indexes, fixed_items, y, lr=2e-3, bs=10, num_iterations=100):\n",
    "        y.requires_grad = True\n",
    "        for i in range(num_iterations):\n",
    "            s = torch.zeros(1).float().to(self.device)\n",
    "            for b in range(self.n):\n",
    "                s += self.ws[b](y[:,b])\n",
    "            y.retain_grad()\n",
    "            s.backward()\n",
    "            with torch.no_grad():\n",
    "                temp = y\n",
    "                temp[variable_items_indexes, :] = y[variable_items_indexes, :] + lr*y.grad[variable_items_indexes, :]\n",
    "                temp = temp.detach().cpu().numpy()\n",
    "                temp = (self.projection_simplex_sort_2d(temp.T, fixed_items)).T\n",
    "                y = None\n",
    "                y = torch.from_numpy(temp).float().to('cuda:0')\n",
    "            y.requires_grad = True\n",
    "            for b in range(self.n):\n",
    "                self.ws[b].zero_grad()\n",
    "        max = 0\n",
    "        for _ in range(10):\n",
    "            allocation = self.generate_allocation(y)\n",
    "            s = 0\n",
    "            for b in range(self.n):\n",
    "                s += self.ws[b](allocation[b]).item()\n",
    "            if s > max:\n",
    "                max = s\n",
    "        for b in range(self.n):\n",
    "            self.ws[b].zero_grad()\n",
    "        return max\n",
    "\n",
    "    def generate_allocation(self, y):\n",
    "        output = torch.tensor([torch.multinomial(y[j], 1) for j in range(self.m)]).to(self.device)\n",
    "        return [(output == i).float().to(self.device) for i in range(self.n)]\n",
    "\n",
    "    def projection_simplex_sort_2d(self, v, fixed_items, z=1):\n",
    "        \"\"\"v array of shape (n_features, n_samples).\"\"\"\n",
    "        p, n = v.shape\n",
    "        u = np.sort(v, axis=0)[::-1, ...]\n",
    "        pi = np.cumsum(u, axis=0) - z\n",
    "        ind = (np.arange(p) + 1).reshape(-1, 1)\n",
    "        mask = (u - pi / ind) > 0\n",
    "        rho = p - 1 - np.argmax(mask[::-1, ...], axis=0)\n",
    "        theta = pi[tuple([rho, np.arange(n)])] / (rho + 1)\n",
    "        w = np.maximum(v - theta, 0)\n",
    "\n",
    "        for k, v in fixed_items.items():\n",
    "            w[:, k] = 0\n",
    "            w[v, k] = 1\n",
    "        return w"
   ]
  },
  {
   "cell_type": "code",
   "execution_count": null,
   "metadata": {},
   "outputs": [],
   "source": [
    "dsfs = []\n",
    "for bidder in auction.bidders:\n",
    "    dsfs.append(bidder.vf)"
   ]
  },
  {
   "cell_type": "code",
   "execution_count": null,
   "metadata": {},
   "outputs": [],
   "source": [
    "optimal = Branch_and_Bound(dsfs, 12, 3)"
   ]
  },
  {
   "cell_type": "code",
   "execution_count": null,
   "metadata": {},
   "outputs": [],
   "source": [
    "socialwelfare = optimal.run()\n",
    "socialwelfare"
   ]
  },
  {
   "cell_type": "markdown",
   "metadata": {},
   "source": [
    "## PYSATS"
   ]
  }
 ],
 "metadata": {
  "kernelspec": {
   "display_name": "auction",
   "language": "python",
   "name": "python3"
  },
  "language_info": {
   "codemirror_mode": {
    "name": "ipython",
    "version": 3
   },
   "file_extension": ".py",
   "mimetype": "text/x-python",
   "name": "python",
   "nbconvert_exporter": "python",
   "pygments_lexer": "ipython3",
   "version": "3.11.5"
  },
  "orig_nbformat": 4,
  "vscode": {
   "interpreter": {
    "hash": "909eed02064ca41586502fb390c5b7e541513ed630e029cf293fbc8142b7695c"
   }
  }
 },
 "nbformat": 4,
 "nbformat_minor": 2
}
