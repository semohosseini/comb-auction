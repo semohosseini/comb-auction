{
 "cells": [
  {
   "cell_type": "code",
   "execution_count": 1,
   "metadata": {},
   "outputs": [],
   "source": [
    "import torch\n",
    "import torch.nn as nn\n",
    "import logging\n",
    "\n",
    "from comblearn.data import DSFValueFunction\n",
    "from comblearn.env import CombinatorialAuction\n",
    "\n",
    "logging.basicConfig(level=20)"
   ]
  },
  {
   "cell_type": "code",
   "execution_count": 9,
   "metadata": {},
   "outputs": [],
   "source": [
    "import os\n",
    "\n",
    "os.environ[\"CUDA_VISIBLE_DEVICES\"] = \"1\""
   ]
  },
  {
   "cell_type": "code",
   "execution_count": null,
   "metadata": {},
   "outputs": [],
   "source": [
    "from torch.optim import Adam"
   ]
  },
  {
   "cell_type": "code",
   "execution_count": 10,
   "metadata": {},
   "outputs": [],
   "source": [
    "device = 'cuda'\n",
    "\n",
    "class MyModular(nn.Module):\n",
    "    def __init__(self, k):\n",
    "        super(MyModular, self).__init__()\n",
    "        self.w = torch.randint(0, 5, (k, 1)).float().to(device)\n",
    "        logging.info(f\"{self.w.squeeze()}\")\n",
    "\n",
    "    def forward(self, x):\n",
    "        return torch.matmul(x, self.w)\n",
    "\n",
    "\n",
    "def social_welfare(ws, allocation):\n",
    "    return torch.sum(torch.tensor([w(alloc) for w, alloc in zip(ws, allocation)]).to(device))"
   ]
  },
  {
   "cell_type": "code",
   "execution_count": 11,
   "metadata": {},
   "outputs": [
    {
     "name": "stderr",
     "output_type": "stream",
     "text": [
      "INFO:root:tensor([3., 4., 1., 3., 4., 0., 0., 4.], device='cuda:0')\n",
      "INFO:root:tensor([1., 1., 0., 0., 4., 0., 3., 0.], device='cuda:0')\n",
      "INFO:root:tensor([2., 3., 4., 0., 0., 2., 3., 3.], device='cuda:0')\n",
      "INFO:root:tensor([1., 2., 1., 3., 4., 0., 3., 2.], device='cuda:0')\n",
      "INFO:root:tensor([2., 4., 2., 0., 3., 0., 0., 0.], device='cuda:0')\n"
     ]
    }
   ],
   "source": [
    "N = 5\n",
    "m = 8\n",
    "bidders = list(range(N))\n",
    "q_init = 500\n",
    "q_max = 505\n",
    "items = list(range(m))\n",
    "\n",
    "value_functions = [MyModular(m), \n",
    "                   MyModular(m), \n",
    "                   MyModular(m), \n",
    "                   MyModular(m), \n",
    "                   MyModular(m)]\n",
    "\n",
    "value_functions_l = [DSFValueFunction(items, 110, [3], 300), \n",
    "                     DSFValueFunction(items, 110, [3], 300), \n",
    "                     DSFValueFunction(items, 110, [3], 300), \n",
    "                     DSFValueFunction(items, 110, [3], 300), \n",
    "                     DSFValueFunction(items, 110, [3], 300)]"
   ]
  },
  {
   "cell_type": "code",
   "execution_count": 12,
   "metadata": {},
   "outputs": [],
   "source": [
    "from torch.optim.optimizer import Optimizer, required\n",
    "\n",
    "class PSGD(Optimizer):\n",
    "    def __init__(self, params, omega=required, alpha=required):\n",
    "        defaults = dict(omega=omega, alpha=alpha, iteration=0)\n",
    "        super(PSGD, self).__init__(params, defaults)\n",
    "\n",
    "    def __setstate__(self, state):\n",
    "        super(PSGD, self).__setstate__(state)\n",
    "\n",
    "    def step(self, closure=None):\n",
    "        loss = None\n",
    "        if closure is not None:\n",
    "            loss = closure()\n",
    "\n",
    "        for group in self.param_groups:\n",
    "            iteration = group['iteration']\n",
    "            omega_k = group['omega'](iteration+1)\n",
    "            alpha_k = group['alpha'](iteration+1)\n",
    "\n",
    "            for p in group['params']:\n",
    "                if p.grad is None:\n",
    "                    continue\n",
    "                d_p = p.grad.data\n",
    "                param_state = self.state[p]\n",
    "                if 'h' not in param_state:\n",
    "                    param_state['h'] = torch.zeros_like(p)\n",
    "                param_state['h'] = (1-omega_k) * param_state['h'] + omega_k * d_p\n",
    "                h_k = param_state['h']\n",
    "                p.data.add_(-alpha_k * h_k)\n",
    "            \n",
    "            group['iteration'] += 1\n",
    "        return loss"
   ]
  },
  {
   "cell_type": "code",
   "execution_count": 13,
   "metadata": {},
   "outputs": [],
   "source": [
    "from math import log2\n",
    "\n",
    "opt_name = \"PSGD\"\n",
    "omega = lambda k: 1/(log2(1 + k))\n",
    "alpha = lambda k: 0.05/(k + log2(1 + k))\n",
    "custom_optim = lambda p, lr: PSGD(p, omega=omega, alpha=alpha)"
   ]
  },
  {
   "cell_type": "code",
   "execution_count": 7,
   "metadata": {},
   "outputs": [],
   "source": [
    "from torch.utils.tensorboard import SummaryWriter\n",
    "\n",
    "writer = SummaryWriter(log_dir=f\"runs/{opt_name}\")"
   ]
  },
  {
   "cell_type": "code",
   "execution_count": null,
   "metadata": {},
   "outputs": [],
   "source": [
    "auction = CombinatorialAuction(bidders, items, value_functions, value_functions_l, q_init, q_max, custom_optim=custom_optim)\n",
    "allocations, payments = auction.run(epochs=1000, lr=0.001, delta=0.005, sample_rate=5, writer=writer)"
   ]
  }
 ],
 "metadata": {
  "kernelspec": {
   "display_name": "auction",
   "language": "python",
   "name": "python3"
  },
  "language_info": {
   "codemirror_mode": {
    "name": "ipython",
    "version": 3
   },
   "file_extension": ".py",
   "mimetype": "text/x-python",
   "name": "python",
   "nbconvert_exporter": "python",
   "pygments_lexer": "ipython3",
   "version": "3.10.8"
  },
  "orig_nbformat": 4
 },
 "nbformat": 4,
 "nbformat_minor": 2
}
